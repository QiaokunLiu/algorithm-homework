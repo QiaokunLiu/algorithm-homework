{
 "cells": [
  {
   "cell_type": "markdown",
   "metadata": {},
   "source": [
    "## algorithm design and anlysis-2025 spring  homework 2\n",
    "**Deadline**：2025.5.14\n",
    "\n",
    "**name**: 刘乔坤\n",
    "\n",
    "\n",
    "note：\n",
    "---\n",
    "1. 带有\\*的题目，申请免上课的同学，必须完成，其他同学选作；\n",
    "2. 请独立完成，如求助了他人或者大模型，请著明，并且不可省略算法分析部分；\n",
    "4. 如若作答有雷同，全部取消成绩；\n",
    "3. 需要书面作答的题目，可以通过引用图片的形式添加，但是注意上传项目时包含所引用的图片的源文件；\n",
    "4. $log_n$ 默认表示$log_2{n}$;"
   ]
  },
  {
   "cell_type": "markdown",
   "metadata": {},
   "source": [
    "## 问题 1  \n",
    "\n",
    "> 给定一个已排序的链表的头 `head` ， *删除所有重复的元素，使每个元素只出现一次* 。返回 *已排序的链表* 。链表的类如下所示：\n",
    "\n",
    "```python\n",
    "class NodeList:\n",
    "    def __init__(self, val=None, right=None):\n",
    "        self.val   = val\n",
    "        self.right = right\n",
    "```\n",
    "\n",
    "输入是一个数组，你首先需要将数组转化为链表，然后删除链表中的重复元素，再遍历链表元素，以一个数组的形式返回。请设计一个算法解决上述任务，分析算法设计思路，计算时间复杂度, 并基于python编程实现。\n",
    "\n",
    "e.g.  输入：head=[1, 1, 2, 3, 3]   输出：[1, 2, 3]\n",
    "\n",
    "![image-20240502110020439](./fig/hw2q1.png)\n",
    "\n"
   ]
  },
  {
   "cell_type": "markdown",
   "metadata": {},
   "source": [
    "idea：\n",
    "先将输入的数组转换为链表，遍历链表之后，删除所有连续的重复元素。将处理后的链表重新转换为数组返回。假设n是链表的节点数，时间复杂度是O()。"
   ]
  },
  {
   "cell_type": "code",
   "execution_count": 10,
   "metadata": {},
   "outputs": [
    {
     "name": "stdout",
     "output_type": "stream",
     "text": [
      "[1, 2, 3]\n"
     ]
    }
   ],
   "source": [
    "# add your idea here\n",
    "# your algorithm time complexity is:\n",
    "class NodeList:\n",
    "    def __init__(self, val=None, right=None):\n",
    "        self.val = val\n",
    "        self.right = right\n",
    "\n",
    "def array_to_linked_list(arr):\n",
    "    if not arr:\n",
    "        return None\n",
    "    head = NodeList(arr[0])\n",
    "    current = head\n",
    "    for val in arr[1:]:\n",
    "        current.right = NodeList(val)\n",
    "        current = current.right\n",
    "    return head\n",
    "\n",
    "def delete_duplicates(head):\n",
    "    current = head\n",
    "    while current and current.right:\n",
    "        if current.val == current.right.val:\n",
    "            current.right = current.right.right\n",
    "        else:\n",
    "            current = current.right\n",
    "    return head\n",
    "\n",
    "def linked_list_to_array(head):\n",
    "    arr = []\n",
    "    current = head\n",
    "    while current:\n",
    "        arr.append(current.val)\n",
    "        current = current.right\n",
    "    return arr\n",
    "\n",
    "def process(arr):\n",
    "    head = array_to_linked_list(arr)\n",
    "    new_head = delete_duplicates(head)\n",
    "    return linked_list_to_array(new_head)\n",
    "\n",
    "# 测试\n",
    "head = [1,1,2,3,3]\n",
    "result = process(head)\n",
    "print(result)"
   ]
  },
  {
   "cell_type": "markdown",
   "metadata": {},
   "source": [
    "## 问题 2  \n",
    "\n",
    "> 下面是一个经典的算法问题：\n",
    ">\n",
    "> - 给定包含n个整数的一个整数数组 `nums` 和一个整数目标值 `target`，请你在该数组中找出 **和为目标值** *`target`* 的那 **两个** 整数，并返回它们的**数组下标**。假设每种输入只会对应一个答案。但是，数组中同一个元素在答案里不能重复出现。你可以按任意顺序返回答案。\n",
    ">\n",
    "> 由于要多次查找数组中元素的位置，为了提高查询效率可以使用哈希表来存储数组中的数据，在哈希表中查询一个元素的复杂度为O(1)。 已知python中的字典是使用哈希表实现的，即使用`dict[key]`查询对应的value时间复杂度为O(1), python提供了查询字典是否包含某个key的功能：`key in dict`，时间复杂度也是O(1)\n",
    "\n",
    "请根据上面信息，设计一个时间复杂度为O(n) 的算法，解决上述算法问题\n",
    "\n",
    "e.g.   \n",
    "\n",
    "输入：nums=[2,7,11,15], target=9， 输出：[0，1]\n",
    "\n",
    "输入：nums=[3,2,4], target=6, 输出：[1,2]\n",
    "\n",
    "输入：nums=[3,3], target=6,  输出：[0,1]\n"
   ]
  },
  {
   "cell_type": "code",
   "execution_count": null,
   "metadata": {},
   "outputs": [],
   "source": [
    "# add your idea here\n",
    "# your algorithm time complexity is: O(n)\n",
    "def two_sum(nums, target):\n",
    "    # 创建空字典作为哈希表\n",
    "    hash_table = {}\n",
    "    \n",
    "    for index, value in enumerate(nums):  \n",
    "        complement = target - value\n",
    "        if complement in hash_table:\n",
    "            return [hash_table[complement], index]\n",
    "        hash_table[value] = index\n",
    "\n",
    "# 测试\n",
    "numbers = [2,7,11,15]\n",
    "target = 9\n",
    "result = two_sum(numbers, target)\n",
    "print(result)\n",
    "numbers = [3,2,4]\n",
    "target = 6\n",
    "result = two_sum(numbers, target)\n",
    "print(result)\n",
    "numbers = [3,3]\n",
    "target = 6\n",
    "result = two_sum(numbers, target)\n",
    "print(result)"
   ]
  },
  {
   "cell_type": "markdown",
   "metadata": {},
   "source": [
    "## 问题 3:   \n",
    "\n",
    "> 栈是一种常用的数据结构，编译器中通常使用栈来实现表达式求值。\n",
    ">\n",
    "> 以表达式 $3+5 \\times 8-6$​ 为例。编译器使用两个栈来完成运算，即一个栈保持操作数，另一个栈保存运算符。\n",
    ">\n",
    "> 1. 从左向右遍历表达式，遇到数字就压入操作数栈；\n",
    ">\n",
    "> 2. 遇到运算符，就与运算符栈的栈顶元素进行比较。如果比运算符栈顶元素的优先级高，就将当前运算符压入栈；如果比运算符栈顶元素的优先级低或者相同，从运算符栈中取栈顶运算符，从操作数栈的栈顶取 2 个操作数，然后进行计算，再把计算完的结果压入操作数栈，继续比较。\n",
    ">\n",
    "> 下图是 $3+5 \\times 8-6$  这个表达式的计算过程：\n",
    "\n",
    "![figure](./fig/hw2q3.png)\n",
    "\n",
    "根据上述原理，请设计一个算法完成表达式的运算，当输入为表达式字符串，返回对应的计算结果。分析算法设计思路，计算时间复杂度，并基于python编程实现\n",
    "\n",
    "**note：**\n",
    "\n",
    "1. 假设输入的表达式只会出现加（“+”），减 “-”， 乘“*”，除 “/” 四个运算符, 表达式中只会出现正整数\n",
    "2. python中` str.isdigit()`函数可以判断字符串str是否为数字，\n",
    "\n",
    "\n",
    "\n",
    "e.g. :\n",
    "---\n",
    "\n",
    "1. 输入：“$3+5 * 8 -6$”   输出：37\n",
    "\n",
    "2. 输入：“$34+13*9 + 44-12/3$”  输出：191"
   ]
  },
  {
   "cell_type": "markdown",
   "metadata": {},
   "source": [
    "idea：\n",
    "可以处理每个字符，遇到数字时，放操作数栈。比较当前运算符与运算符栈顶的优先级，先处理优先级高的运算符。假设n是表达式字符串的长度，每个字符被处理一次且每个运算符最多入栈和出栈一次。因此时间复杂度是O(n)。"
   ]
  },
  {
   "cell_type": "code",
   "execution_count": 16,
   "metadata": {},
   "outputs": [
    {
     "name": "stdout",
     "output_type": "stream",
     "text": [
      "37\n",
      "191\n"
     ]
    }
   ],
   "source": [
    "# add your idea here\n",
    "# your algorithm time complexity is: \n",
    "def calculate(string):\n",
    "    precedence = {'+': 1, '-': 1, '*': 2, '/': 2}\n",
    "    nums = []\n",
    "    ops = []\n",
    "    i = 0\n",
    "    n = len(string)\n",
    "    \n",
    "    while i < n:\n",
    "        c = string[i]\n",
    "        if c == ' ':\n",
    "            i += 1\n",
    "            continue\n",
    "        elif c.isdigit():\n",
    "            num = 0\n",
    "            while i < n and string[i].isdigit():\n",
    "                num = num * 10 + int(string[i])\n",
    "                i += 1\n",
    "            nums.append(num)\n",
    "        else:\n",
    "            while ops and precedence[c] <= precedence[ops[-1]]:\n",
    "                apply_operation(ops, nums)\n",
    "            ops.append(c)\n",
    "            i += 1\n",
    "    \n",
    "    while ops:\n",
    "        apply_operation(ops, nums)\n",
    "    \n",
    "    return nums[-1] if nums else 0\n",
    "\n",
    "def apply_operation(ops, nums):\n",
    "    op = ops.pop()\n",
    "    b = nums.pop()\n",
    "    a = nums.pop()\n",
    "    if op == '+':\n",
    "        res = a + b\n",
    "    elif op == '-':\n",
    "        res = a - b\n",
    "    elif op == '*':\n",
    "        res = a * b\n",
    "    elif op == '/':\n",
    "        res = a // b\n",
    "    nums.append(res)\n",
    "\n",
    "# 测试\n",
    "string_1 = \"3+5*8-6\"\n",
    "result = calculate(string_1)\n",
    "print(result)\n",
    "\n",
    "string_2 = \"34+13*9 + 44-12/3\"\n",
    "result = calculate(string_2)\n",
    "print(result)"
   ]
  },
  {
   "cell_type": "markdown",
   "metadata": {},
   "source": [
    "## 问题 4:  \n",
    "\n",
    "> 星球碰撞问题：现有n个星球，在同一条直线上运行，如数组A所示，元素的绝对值表示星球的质量，负数表示星球自右向左运动，正数表示星球自左向右运动，当两个星球相撞的时候，质量小的会消失，大的保持不变，**质量相同的两个星球碰撞后自右向左运动的星球消失，自左向右的星球保持不变**，假设所有星球的速度大小相同。\n",
    ">\n",
    "> $ A=[23,-8, 9, -3, -7, 9, -23, 22] $\n",
    "\n",
    "请设计一个算法模拟星球的运行情况，输出最终的星球存续情况（输出一个数组），分析算法设计思路，计算时间复杂度，并基于python编程实现。\n",
    "\n",
    "e.g.\n",
    "---\n",
    "1.  输入： A=[-3,-6,2,8, 5,-8,9,-2,1]， 输出：[-3, -6, 2, 8, 9, 1]\n",
    "\n",
    "2. 输入：A=[23,-8, 9, -3, -7, 9, -23, 22], 输出：[23, 22]\n",
    "\n"
   ]
  },
  {
   "cell_type": "markdown",
   "metadata": {},
   "source": [
    "idea：\n",
    "遍历输入列表，分别记录正数和负数的绝对值及其索引位置。对于相同的绝对值，仅保留左侧元素对应的原始数值。"
   ]
  },
  {
   "cell_type": "code",
   "execution_count": 70,
   "metadata": {},
   "outputs": [
    {
     "name": "stdout",
     "output_type": "stream",
     "text": [
      "[-3, -6, 2, 8, 5, 9, 1]\n"
     ]
    }
   ],
   "source": [
    "# add your idea here\n",
    "# your algorithm time complexity is: \n",
    "def planet_collision(planets):\n",
    "    seen = {}\n",
    "    result = []\n",
    "    \n",
    "    for num in planets:\n",
    "        abs_num = abs(num)  # 获取当前数字的绝对值\n",
    "        \n",
    "        if abs_num not in seen or (abs_num in seen and num >= 0):  \n",
    "            seen[abs_num] = num\n",
    "            result.append(num)\n",
    "    return result\n",
    "\n",
    "# 测试用例\n",
    "A = [-3,-6,2,8,5,-8,9,-2,1]\n",
    "result = planet_collision(A)\n",
    "print(result)"
   ]
  },
  {
   "cell_type": "markdown",
   "metadata": {},
   "source": [
    "## 问题 5 \n",
    "\n",
    "> 给定一个无序数组nums=[9,-3,-10,0,9,7,33]，请建立一个二叉搜索树存储数组中的所有元素，之后删除二叉树中的元素“0”，再使用中序遍历输出二叉搜索树中的所有元素。\n",
    "\n",
    "使用python编程完成上述任务，并计算时间复杂度\n"
   ]
  },
  {
   "cell_type": "code",
   "execution_count": 73,
   "metadata": {},
   "outputs": [
    {
     "name": "stdout",
     "output_type": "stream",
     "text": [
      "[-10, -3, 7, 9, 9, 33]\n"
     ]
    }
   ],
   "source": [
    "# add your idea here\n",
    "# your algorithm time complexity is:\n",
    "class TreeNode:\n",
    "    #定义二叉搜索树的节点类\n",
    "    def __init__(self, value):\n",
    "        self.value = value\n",
    "        self.left = None\n",
    "        self.right = None\n",
    "\n",
    "class BinarySearchTree:\n",
    "    def __init__(self):\n",
    "        self.root = None\n",
    "\n",
    "    def insert(self, value):\n",
    "        if not self.root:\n",
    "            self.root = TreeNode(value)\n",
    "        else:\n",
    "            self._insert_recursive(self.root, value)\n",
    "\n",
    "    def _insert_recursive(self, node, value):\n",
    "        if value < node.value:\n",
    "            if node.left is None:\n",
    "                node.left = TreeNode(value)\n",
    "            else:\n",
    "                self._insert_recursive(node.left, value)\n",
    "        elif value >= node.value:\n",
    "            if node.right is None:\n",
    "                node.right = TreeNode(value)\n",
    "            else:\n",
    "                self._insert_recursive(node.right, value)\n",
    "\n",
    "    def delete(self, value):\n",
    "        self.root = self._delete_recursive(self.root, value)\n",
    "\n",
    "    def _delete_recursive(self, node, value):\n",
    "        if node is None:\n",
    "            return node\n",
    "        \n",
    "        if value < node.value:\n",
    "            node.left = self._delete_recursive(node.left, value)\n",
    "        elif value > node.value:\n",
    "            node.right = self._delete_recursive(node.right, value)\n",
    "        else:\n",
    "            if node.left is None:\n",
    "                return node.right\n",
    "            elif node.right is None:\n",
    "                return node.left\n",
    "            \n",
    "            min_larger_node = self._find_min(node.right)\n",
    "            node.value = min_larger_node.value\n",
    "            node.right = self._delete_recursive(node.right, min_larger_node.value)\n",
    "        \n",
    "        return node\n",
    "\n",
    "    def _find_min(self, node):\n",
    "        while node.left:\n",
    "            node = node.left\n",
    "        return node\n",
    "\n",
    "    def inorder_traversal(self):\n",
    "        result = []\n",
    "        self._inorder_recursive(self.root, result)\n",
    "        return result\n",
    "\n",
    "    def _inorder_recursive(self, node, result):\n",
    "        if node:\n",
    "            self._inorder_recursive(node.left, result)\n",
    "            result.append(node.value)\n",
    "            self._inorder_recursive(node.right, result)\n",
    "\n",
    "\n",
    "# 测试\n",
    "bt = BinarySearchTree()\n",
    "\n",
    "# 插入数据\n",
    "data = [9,-3,-10,0,9,7,33]\n",
    "for num in data:\n",
    "    bt.insert(num)\n",
    "\n",
    "# 删除节点值为0的元素\n",
    "bt.delete(0)\n",
    "\n",
    "# 中序遍历\n",
    "result = bt.inorder_traversal()\n",
    "print(result)"
   ]
  },
  {
   "cell_type": "markdown",
   "metadata": {},
   "source": [
    "## 问题 6  \n",
    "\n",
    "> 给定一个包含大写字母和小写字母的字符串 s ，返回 字符串包含的 **最长的回文子串的长度** 。请注意 区分大小写 。比如 \"Aa\" 不能当做一个回文字符串。\n",
    ">\n",
    "\n",
    "请设计一个算法解决上述问题，只需要输出最长回文子串的长度，分析算法设计思路，计算时间复杂度，并基于python编程实现\n",
    "\n",
    "e.g. 输入： s=\"adccaccd\"，  输出：7。 最长回文子串为：\"dccaccd\", 长度为7\n"
   ]
  },
  {
   "cell_type": "markdown",
   "metadata": {},
   "source": [
    "idea：\n",
    "可以把原始字符串变成另一种形式，使用一个辅助数组记录最长回文子串长度。直接从头遍历整个字符串，假设长度为n，时间复杂度为O(n)。"
   ]
  },
  {
   "cell_type": "code",
   "execution_count": 97,
   "metadata": {},
   "outputs": [
    {
     "name": "stdout",
     "output_type": "stream",
     "text": [
      "最长回文子串为：dccaccd, 长度为7\n"
     ]
    }
   ],
   "source": [
    "# add your idea here\n",
    "# your algorithm time complexity is:\n",
    "def preprocess(s: str) -> str:\n",
    "    # 对字符串进行预处理，添加#符号辅助计算\n",
    "    return \"^#\" + \"#\".join(s) + \"#$\"\n",
    "\n",
    "def longest_palindrome_length(s):\n",
    "    T = preprocess(s)\n",
    "    n = len(T)\n",
    "    P = [0] * n\n",
    "    C, R = 0, 0\n",
    "    \n",
    "    for i in range(1, n - 1):\n",
    "        mirror = 2 * C - i\n",
    "        if R > i:\n",
    "            P[i] = min(R - i, P[mirror])\n",
    "        \n",
    "        # 尝试扩展回文半径\n",
    "        while T[i + 1 + P[i]] == T[i - 1 - P[i]]:\n",
    "            P[i] += 1\n",
    "        \n",
    "        # 更新中心和右边界\n",
    "        if i + P[i] > R:\n",
    "            C, R = i, i + P[i]\n",
    "    \n",
    "    # 找到最大回文半径及其位置\n",
    "    max_len, center_index = max((v, i) for i, v in enumerate(P))\n",
    "    start = (center_index - max_len) // 2\n",
    "    result = s[start:start + max_len]\n",
    "    return result, len(result)\n",
    "    \n",
    "\n",
    "# 测试\n",
    "s = 'adccaccd'\n",
    "result_string, length = longest_palindrome_length(s)\n",
    "print(f\"最长回文子串为：{result_string}, 长度为{length}\")\n",
    "\n"
   ]
  },
  {
   "cell_type": "markdown",
   "metadata": {},
   "source": [
    "## 问题 7 \n",
    "\n",
    "> 沿一条长河流分散着n座房子。你可以把这条河想象成一条轴，房子是由它们在这条轴上的坐标按顺序排列的。你的公司想在河边的特定地点设置手机基站，这样每户人家都在距离基站4公里的范围内。输入可以看作为一个升序数组，数组元素的取值为大于等于0的正整数，你需要输出最小基站的数目，基站的位置。\n",
    "\n",
    "1. 给出一个时间复杂度为$O(n$) 的算法，使所使用的基站数量最小化，分析算法设计思路，使用python编程实现\n",
    "2. 证明1.中算法产生了最优解决方案。\n",
    "\n",
    "e.g. \n",
    "\n",
    "输入： [1, 5, 12, 33, 34,35]  输出：基站数目为3， 基站位置为[1，12，33]\n",
    "\n"
   ]
  },
  {
   "cell_type": "markdown",
   "metadata": {},
   "source": [
    "idea：\n",
    "假设基站的覆盖范围是一个固定的，这里是4公里，则任何一座房子都可以被某个以该房为中心、向两侧延伸至最多2公里距离的基站点完全覆盖。"
   ]
  },
  {
   "cell_type": "code",
   "execution_count": 101,
   "metadata": {},
   "outputs": [
    {
     "name": "stdout",
     "output_type": "stream",
     "text": [
      "基站数据为3，基站位置为[5, 12, 35]\n"
     ]
    }
   ],
   "source": [
    "# add your idea here\n",
    "# your algorithm time complexity is:\n",
    "def min_number_of_towers(houses, coverage_radius):\n",
    "    # 对房子按照它们的位置升序排列\n",
    "    houses.sort()\n",
    "    \n",
    "    towers = []\n",
    "    last_covered_index = 0\n",
    "\n",
    "    while last_covered_index < len(houses):\n",
    "        best_tower_position = None\n",
    "        farthest_house_index = -1\n",
    "\n",
    "        # 寻找最佳放置塔的位置使它可以覆盖当前位置处的第一栋尚未被覆盖的房子\n",
    "        for i in range(last_covered_index, len(houses)):\n",
    "            if best_tower_position is None or houses[i] <= best_tower_position + coverage_radius:\n",
    "                if houses[last_covered_index] >= houses[i] - coverage_radius:\n",
    "                    best_tower_position = houses[i]\n",
    "                    farthest_house_index = i\n",
    "                else:\n",
    "                    break\n",
    "            else:\n",
    "                break\n",
    "\n",
    "        towers.append(best_tower_position)\n",
    "        last_covered_index = farthest_house_index + 1\n",
    "\n",
    "    return len(towers), towers\n",
    "\n",
    "\n",
    "# 测试\n",
    "house_positions = [1,5,12,33,34,35] \n",
    "radius = 4\n",
    "result = min_number_of_towers(house_positions, radius)\n",
    "print(f\"基站数据为{result[0]}，基站位置为{result[1]}\")"
   ]
  },
  {
   "cell_type": "markdown",
   "metadata": {},
   "source": [
    "## 问题 8  \n",
    "\n",
    "> 给定由n个正整数组成的一个集合$S = \\{a_1, a_2，···，a_n\\}$和一个正整数W，设计一个算法确定是否存在S的一个子集 $K \\subseteq S$, 使K中所有数之和为 $W$, 如果存在返回“True”，否则返回“False”\n",
    "\n",
    "请设计一个时间复杂度为$O(nW)$动态规划算法，解决上述问题，分析算法的设计思路，并且基于python编程实现（不需要输出子集）。\n",
    "\n",
    "e.g. \n",
    "\n",
    "输入：S = {1,4,7,3,5}， W = 11，输出：True。   因为K可以是{4,7}。\n",
    "\n"
   ]
  },
  {
   "cell_type": "markdown",
   "metadata": {},
   "source": [
    "idea：\n",
    "可以使用一个一维布尔数组，表示是否存在一个我们需要的子集。对于集合中的每个元素，从后向前更新这个数组，对于每个元素检查所有可能的值。"
   ]
  },
  {
   "cell_type": "code",
   "execution_count": 105,
   "metadata": {},
   "outputs": [
    {
     "name": "stdout",
     "output_type": "stream",
     "text": [
      "True\n"
     ]
    }
   ],
   "source": [
    "# add your idea here\n",
    "# your algorithm time complexity is: O(nW)\n",
    "def subset_sum(S, W):\n",
    "    dp = [False] * (W + 1)\n",
    "    dp[0] = True\n",
    "    for num in S:\n",
    "        # 从后往前遍历，避免重复使用同一元素\n",
    "        for j in range(W, num - 1, -1):\n",
    "            if dp[j - num]:\n",
    "                dp[j] = True\n",
    "    return dp[W]\n",
    "\n",
    "# 测试\n",
    "S = [1,4,7,3,5]\n",
    "W = 11\n",
    "result = subset_sum(S, W)\n",
    "print(result)"
   ]
  },
  {
   "cell_type": "markdown",
   "metadata": {},
   "source": [
    "\n",
    "\n",
    "## 问题 9 \n",
    "\n",
    "> 给定一个n个物品的集合。物体的重量为$w_1, w_2，…、w_n$，物品的价值分别是$v_1、v_2、…v_n$。给你**两个**重量为 $c$ 的背包。如果你带了一个东西，它可以放在一个背包里，也可以放在另一个背包里，但不能同时放在两个背包里。所有权重和价值都是正整数。\n",
    "\n",
    "1. 设计一个时间复杂度为 $O(nc^2)$ 的动态规划算法，确定可以放入两个背包的物体的最大价值。分析算法设计思路，并基于python编程实现\n",
    "2. \\* 修改1中的算法，输出每个背包的内容（物品对应下标）。\n",
    "\n",
    "e.g.: \n",
    "\n",
    "输入 V=[1,3,2,5,8,7], W=[1,3,2,5,8,7], c=7, 输出：最大价值=14，背包装的物品为：[6] [4，3] （同一个背包中物品装入顺序对结果无影响）  \n"
   ]
  },
  {
   "cell_type": "markdown",
   "metadata": {},
   "source": [
    "idea：\n",
    "定义状态转移方程和存储结构，使用动态规划。"
   ]
  },
  {
   "cell_type": "code",
   "execution_count": 109,
   "metadata": {},
   "outputs": [
    {
     "name": "stdout",
     "output_type": "stream",
     "text": [
      "最大价值=14，背装的物品为：[6][3 4]\n"
     ]
    }
   ],
   "source": [
    "# add your idea here\n",
    "# your algorithm time complexity is: O(nc^2)\n",
    "import numpy as np\n",
    "def bag(v, w, C):\n",
    "    n = len(w)\n",
    "    # 初始化三维数组 dp\n",
    "    dp = [[[0]*(C+1) for _ in range(C+1)] for __ in range(n+1)]\n",
    "    \n",
    "    for i in range(1, n+1):\n",
    "        for j in range(C+1):\n",
    "            for k in range(C+1):\n",
    "                if j >= w[i-1]:\n",
    "                    value_if_in_first = dp[i-1][j-w[i-1]][k] + v[i-1]\n",
    "                else:\n",
    "                    value_if_in_first = float('-inf')\n",
    "                \n",
    "                if k >= w[i-1]:\n",
    "                    value_if_in_second = dp[i-1][j][k-w[i-1]] + v[i-1]\n",
    "                else:\n",
    "                    value_if_in_second = float('-inf')\n",
    "\n",
    "                value_if_not_in_any = dp[i-1][j][k]\n",
    "                dp[i][j][k] = max(value_if_in_first, value_if_in_second, value_if_not_in_any)\n",
    "\n",
    "    max_value = dp[n][C][C]\n",
    "\n",
    "    # 回溯找出哪些物品被放入哪个背包\n",
    "    items_in_bag1 = []\n",
    "    items_in_bag2 = []\n",
    "\n",
    "    i, j, k = n, C, C\n",
    "    while i > 0 and (j > 0 or k > 0):\n",
    "        if j >= w[i-1] and dp[i][j][k] == dp[i-1][j-w[i-1]][k] + v[i-1]:\n",
    "            items_in_bag1.append(i-1)\n",
    "            j -= w[i-1]\n",
    "        elif k >= w[i-1] and dp[i][j][k] == dp[i-1][j][k-w[i-1]] + v[i-1]:\n",
    "            items_in_bag2.append(i-1)\n",
    "            k -= w[i-1]\n",
    "        i -= 1\n",
    "    items_in_bag1 = np.array(items_in_bag1) + 1\n",
    "    items_in_bag2 = np.array(items_in_bag2) + 1\n",
    "    \n",
    "    return max_value, items_in_bag1[::-1], items_in_bag2[::-1]\n",
    "\n",
    "\n",
    "# 测试\n",
    "V = [1,3,2,5,8,7]\n",
    "W = [1,3,2,5,8,7]\n",
    "c = 7\n",
    "\n",
    "result = bag(V, W, c)\n",
    "print(f\"最大价值={result[0]}，背装的物品为：{result[1]}{result[2]}\")"
   ]
  },
  {
   "cell_type": "markdown",
   "metadata": {},
   "source": [
    "## 问题 10 \n",
    "\n",
    "> 给定两个字符串 $x[1..n]$ 和 $y[1..m]$，我们想通过以下操作将 $x$ 变换为 $y$ :\n",
    ">\n",
    "> **插入**：在 $x$ 中插入一个字符(在任何位置)；**删除**：从 $x$ 中删除一个字符(在任何位置)； **替换**：用另一个字符替换 $x$ 中的一个字符。\n",
    ">\n",
    "> 例如: $x = abcd$, $y = bcfe$，\n",
    ">\n",
    "> - 将 $x$ 转换为 $y$ 的一种可能方法是：1. 删除 $x$ 开头的 $a$, $x$变成 $bcd$； 2. 将 $x$ 中的字符 $d$ 替换为字符 $f$。$x$ 变成 $bcf$； 3. 在 $x$ 的末尾插入字符 $e$。$x$ 变成 $bcfe$。\n",
    ">\n",
    "> - 另一种可能的方法：1. 删除 $x$ 开头的 $a$,  $x$ 变成 $bcd$； 2. 在 $x$ 中字符 $d$ 之前插入字符 $f$。$x$ 变成 $bcfd$。3. 将 $x$ 中的字符 $d$ 替换为字符 $e$。$x$ 变成 $bcfe$。\n",
    "\n",
    "设计一个时间复杂度为 $O(mn)$ 的算法，返回将 $x$ 转换为 $y$ 所需的最少操作次数。分析算法设计思路，并基于python编程实现。\n"
   ]
  },
  {
   "cell_type": "markdown",
   "metadata": {},
   "source": [
    "idea：\n",
    "如果x[i-1]等于y[j-1]，则无需操作，否则进行增删改。"
   ]
  },
  {
   "cell_type": "code",
   "execution_count": 114,
   "metadata": {},
   "outputs": [
    {
     "name": "stdout",
     "output_type": "stream",
     "text": [
      "最少操作次数为：3\n"
     ]
    }
   ],
   "source": [
    "# add your idea here\n",
    "# your algorithm time complexity is: O(mn)\n",
    "def min_edit_distance(x, y):\n",
    "    m, n = len(x), len(y)\n",
    "    # 创建 dp 表格并初始化\n",
    "    dp = [[0] * (n + 1) for _ in range(m + 1)]\n",
    "\n",
    "    for i in range(m + 1):\n",
    "        dp[i][0] = i  # 删除所有字符\n",
    "    for j in range(n + 1):\n",
    "        dp[0][j] = j  # 插入所有字符\n",
    "\n",
    "    # 填充表格\n",
    "    for i in range(1, m + 1):\n",
    "        for j in range(1, n + 1):\n",
    "            if x[i - 1] == y[j - 1]:\n",
    "                dp[i][j] = dp[i - 1][j - 1]\n",
    "            else:\n",
    "                dp[i][j] = min(dp[i - 1][j] + 1, dp[i][j - 1] + 1, dp[i - 1][j - 1] + 1)\n",
    "    \n",
    "    return dp[m][n]\n",
    "\n",
    "\n",
    "# 测试数据\n",
    "str_x = \"abcd\"\n",
    "str_y = \"bcfe\"\n",
    "\n",
    "result = min_edit_distance(str_x, str_y)\n",
    "print(f\"最少操作次数为：{result}\")"
   ]
  },
  {
   "cell_type": "code",
   "execution_count": null,
   "metadata": {},
   "outputs": [],
   "source": []
  }
 ],
 "metadata": {
  "kernelspec": {
   "display_name": "Python [conda env:base] *",
   "language": "python",
   "name": "conda-base-py"
  },
  "language_info": {
   "codemirror_mode": {
    "name": "ipython",
    "version": 3
   },
   "file_extension": ".py",
   "mimetype": "text/x-python",
   "name": "python",
   "nbconvert_exporter": "python",
   "pygments_lexer": "ipython3",
   "version": "3.12.7"
  }
 },
 "nbformat": 4,
 "nbformat_minor": 4
}
