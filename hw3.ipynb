{
 "cells": [
  {
   "cell_type": "markdown",
   "metadata": {},
   "source": [
    "## algorithm design and anlysis-2025 spring  homework 3\n",
    "**Deadline**：2025.5.14\n",
    "\n",
    "**name**: 刘乔坤\n",
    "\n",
    "\n",
    "note：\n",
    "---\n",
    "1. 带有\\*的题目，申请免上课的同学，必须完成，其他同学选作；\n",
    "2. 请独立完成，如求助了他人或者大模型，请著明，并且不可省略算法分析部分；\n",
    "4. 如若作答有雷同，全部取消成绩；\n",
    "3. 需要书面作答的题目，可以通过引用图片的形式添加，但是注意上传项目时包含所引用的图片的源文件；\n",
    "4. $log_n$ 默认表示$log_2{n}$;"
   ]
  },
  {
   "cell_type": "markdown",
   "metadata": {},
   "source": [
    "## 问题 1  \n",
    "\n",
    "请证明基于比较的排序算法计算复杂度下界为$\\Omega(nlogn)$"
   ]
  },
  {
   "cell_type": "markdown",
   "metadata": {},
   "source": [
    "you can refer a handwritten picture, pleas upload the picture in /fig/xxx.png\n",
    "answer："
   ]
  },
  {
   "cell_type": "markdown",
   "metadata": {},
   "source": [
    "## 问题 2 \n",
    "\n",
    "构建二叉搜索树\n",
    "\n",
    "> 1. 给定一个数组 [48, 33, 49, 47, 42, 46, 32], 构建一个二叉搜索树存储这些数据，请**绘制**所构建的**二叉搜索树**（标明结点的值）。\n",
    "> 2. 从第1问的二叉搜索树中删除33，请**绘制**删除33后的**二叉搜索树**（标明结点的值）\n",
    "\n",
    "- 推荐使用graphviz包绘制树的结构"
   ]
  },
  {
   "cell_type": "markdown",
   "metadata": {},
   "source": [
    "you can refer a handwritten picture, pleas upload the picture in /fig/xxx.png\n",
    "answer："
   ]
  },
  {
   "cell_type": "code",
   "execution_count": 2,
   "metadata": {
    "scrolled": true
   },
   "outputs": [
    {
     "ename": "ModuleNotFoundError",
     "evalue": "No module named 'graphviz'",
     "output_type": "error",
     "traceback": [
      "\u001b[1;31m---------------------------------------------------------------------------\u001b[0m",
      "\u001b[1;31mModuleNotFoundError\u001b[0m                       Traceback (most recent call last)",
      "Cell \u001b[1;32mIn[2], line 1\u001b[0m\n\u001b[1;32m----> 1\u001b[0m \u001b[38;5;28;01mimport\u001b[39;00m \u001b[38;5;21;01mgraphviz\u001b[39;00m\n\u001b[0;32m      3\u001b[0m \u001b[38;5;28;01mclass\u001b[39;00m \u001b[38;5;21;01mTreeNode\u001b[39;00m:\n\u001b[0;32m      4\u001b[0m     \u001b[38;5;28;01mdef\u001b[39;00m \u001b[38;5;21m__init__\u001b[39m(\u001b[38;5;28mself\u001b[39m, val\u001b[38;5;241m=\u001b[39m\u001b[38;5;241m0\u001b[39m, left\u001b[38;5;241m=\u001b[39m\u001b[38;5;28;01mNone\u001b[39;00m, right\u001b[38;5;241m=\u001b[39m\u001b[38;5;28;01mNone\u001b[39;00m):\n",
      "\u001b[1;31mModuleNotFoundError\u001b[0m: No module named 'graphviz'"
     ]
    }
   ],
   "source": [
    "import graphviz\n",
    "\n",
    "class TreeNode:\n",
    "    def __init__(self, val=0, left=None, right=None):\n",
    "        self.val = val      # 节点存储的值\n",
    "        self.left = left    # 左子节点\n",
    "        self.right = right  # 右子节点\n",
    "\n",
    "def insert(root, val):\n",
    "    if root is None:\n",
    "        return TreeNode(val)\n",
    "    if val < root.val:\n",
    "        root.left = insert(root.left, val)\n",
    "    else:\n",
    "        root.right = insert(root.right, val)\n",
    "    return root\n",
    "\n",
    "def delete(root, val):\n",
    "    if root is None:\n",
    "        return root\n",
    "    if val < root.val:\n",
    "        root.left = delete(root.left, val)\n",
    "    elif val > root.val:\n",
    "        root.right = delete(root.right, val)\n",
    "    else:\n",
    "        # 找到要删除的节点\n",
    "        if root.left is None:\n",
    "            return root.right\n",
    "        elif root.right is None:\n",
    "            return root.left\n",
    "        # 有两个子节点的情况\n",
    "        temp = min_value_node(root.right)\n",
    "        root.val = temp.val\n",
    "        root.right = delete(root.right, temp.val)\n",
    "    return root\n",
    "\n",
    "def min_value_node(node):\n",
    "    current = node\n",
    "    while current.left is not None:\n",
    "        current = current.left\n",
    "    return current\n",
    "\n",
    "def visualize_tree(root, dot=None):\n",
    "    if dot is None:\n",
    "        # 创建有向图对象，设置分辨率为300 dpi以获得清晰图像\n",
    "        dot = graphviz.Digraph(comment='Binary Search Tree', format='png')\n",
    "        dot.attr(dpi='300')\n",
    "        # 设置全局样式\n",
    "        dot.attr('graph', fontname='SimHei')  # 支持中文显示\n",
    "        dot.attr('node', shape='circle', style='filled', color='lightblue', \n",
    "                 fontname='SimHei', fontsize='12')\n",
    "        # 设置边的默认颜色为棕色\n",
    "        dot.attr('edge', color='#8B4513', penwidth='1.5')\n",
    "    \n",
    "    if root:\n",
    "        # 判断是否为叶子节点\n",
    "        is_leaf = root.left is None and root.right is None\n",
    "        # 叶子节点使用绿色填充\n",
    "        fill_color = 'green' if is_leaf else 'lightblue'\n",
    "        # 添加节点，使用节点的内存地址作为唯一标识符\n",
    "        dot.node(str(id(root)), str(root.val), fillcolor=fill_color)\n",
    "        \n",
    "        # 递归处理左子树\n",
    "        if root.left:\n",
    "            dot.edge(str(id(root)), str(id(root.left)))\n",
    "            visualize_tree(root.left, dot)\n",
    "        \n",
    "        # 递归处理右子树\n",
    "        if root.right:\n",
    "            dot.edge(str(id(root)), str(id(root.right)))\n",
    "            visualize_tree(root.right, dot)\n",
    "    \n",
    "    return dot\n",
    "\n",
    "# 构建二叉搜索树\n",
    "nums = [48, 33, 49, 47, 42, 46, 32]\n",
    "root = None\n",
    "for num in nums:\n",
    "    root = insert(root, num)\n",
    "\n",
    "# 绘制初始二叉搜索树\n",
    "dot_initial = visualize_tree(root)\n",
    "dot_initial.render('initial_bst', view=True)\n",
    "\n",
    "# 删除33\n",
    "root = delete(root, 33)\n",
    "\n",
    "# 绘制删除33后的二叉搜索树\n",
    "dot_deleted = visualize_tree(root)\n",
    "dot_deleted.render('deleted_bst', view=True)"
   ]
  },
  {
   "cell_type": "markdown",
   "metadata": {},
   "source": [
    "## 问题 3 \n",
    "\n",
    "> 下面是九门课程的开始和结束时间:\n",
    ">\n",
    "> [(9:00,12:30), (11:00,14:00), (13:00, 14:30), (9:00,10:30),(13:00, 14:30),(14:00,16:30), (15:00,16:30), (15:00,16:30), (9:00,10:30)]\n",
    ">\n",
    "> 请使用贪婪算法为这九门课分配教室，要求在同一天内安排这些课，并且每个教室同一时间只能安排一门课。\n",
    "\n",
    "**请问最少需要几间教室，罗列出每个教室安排的课程**"
   ]
  },
  {
   "cell_type": "markdown",
   "metadata": {},
   "source": [
    "idea：\n",
    "用贪婪算法解决问题。先将所有课程的开始时间和结束时间分别排序，再使用两个指针分别遍历开始时间和结束时间数组，根据课程的开始和结束时间，动态分配教室并记录课程安排。"
   ]
  },
  {
   "cell_type": "code",
   "execution_count": 10,
   "metadata": {
    "vscode": {
     "languageId": "plaintext"
    }
   },
   "outputs": [
    {
     "name": "stdout",
     "output_type": "stream",
     "text": [
      "最少需要3间教室,安排如下：\n",
      "\n",
      "·教室1课程:\n",
      "  课程: 9:00 - 12:30\n",
      "  课程: 13:00 - 14:30\n",
      "  课程: 15:00 - 16:30\n",
      "\n",
      "·教室2课程:\n",
      "  课程: 11:00 - 14:00\n",
      "  课程: 9:00 - 10:30\n",
      "  课程: 14:00 - 16:30\n",
      "\n",
      "·教室3课程:\n",
      "  课程: 13:00 - 14:30\n",
      "  课程: 15:00 - 16:30\n",
      "  课程: 9:00 - 10:30\n"
     ]
    }
   ],
   "source": [
    "# 将时间字符串转换为分钟数\n",
    "def time_to_minutes(time_str):\n",
    "    hours, minutes = map(int, time_str.split(':'))\n",
    "    return hours * 60 + minutes\n",
    "\n",
    "courses = [('9:00', '12:30'), ('11:00', '14:00'), ('13:00', '14:30'), \n",
    "           ('9:00', '10:30'), ('13:00', '14:30'), ('14:00', '16:30'), \n",
    "           ('15:00', '16:30'), ('15:00', '16:30'), ('9:00', '10:30')]\n",
    "\n",
    "# 转换为分钟表示\n",
    "courses_min = [(time_to_minutes(start), time_to_minutes(end)) for start, end in courses]\n",
    "\n",
    "# 提取所有开始时间和结束时间并排序\n",
    "start_times = sorted([course[0] for course in courses_min])\n",
    "end_times = sorted([course[1] for course in courses_min])\n",
    "\n",
    "# 使用双指针统计所需教室的最大数量\n",
    "s, e = 0, 0\n",
    "max_rooms = current_rooms = 0\n",
    "\n",
    "while s < len(start_times):\n",
    "    if start_times[s] < end_times[e]:\n",
    "        current_rooms += 1\n",
    "        s += 1\n",
    "        max_rooms = max(max_rooms, current_rooms)\n",
    "    else:\n",
    "        current_rooms -= 1\n",
    "        e += 1\n",
    "\n",
    "print(f\"最少需要{max_rooms}间教室,安排如下：\")\n",
    "\n",
    "# 为每间教室分配课程\n",
    "rooms = [[] for _ in range(max_rooms)]\n",
    "for course in courses:\n",
    "    start_min = time_to_minutes(course[0])\n",
    "    end_min = time_to_minutes(course[1])\n",
    "    # 尝试分配到已有教室  #贪心算法，“首次适应”思想\n",
    "    allocated = False\n",
    "    for room in rooms:\n",
    "        conflict = False\n",
    "        for existing_course in room:\n",
    "            existing_start = time_to_minutes(existing_course[0])\n",
    "            existing_end = time_to_minutes(existing_course[1])\n",
    "            # 检查是否冲突\n",
    "            if not (end_min <= existing_start or start_min >= existing_end):\n",
    "                conflict = True\n",
    "                break\n",
    "        if not conflict:\n",
    "            room.append(course)\n",
    "            allocated = True\n",
    "            break\n",
    " \n",
    "    if not allocated:\n",
    "        print(\"Error: No room available!\")\n",
    "\n",
    "# 输出每个教室的课程安排\n",
    "for i, room in enumerate(rooms):\n",
    "    print(f\"\\n·教室{i+1}课程:\")\n",
    "    for course in room:\n",
    "        print(f\"  课程: {course[0]} - {course[1]}\")"
   ]
  },
  {
   "cell_type": "markdown",
   "metadata": {},
   "source": [
    "## 问题 4 \n",
    "\n",
    "> 爬楼梯问题：假设爬楼梯时你每次只能爬一阶或者爬两阶，问爬上n阶的楼梯，你一共有多少种方法\n",
    "\n",
    "请设计算法完成该问题，分析算法设计思路，计算时间复杂度，并基于python编程实现"
   ]
  },
  {
   "cell_type": "markdown",
   "metadata": {},
   "source": [
    "idea：\n",
    "分析问题：当站在第n阶楼梯时，有2种方法到达：A:从第n-1阶楼梯爬一阶,B:从n-2层爬2阶，且AB为对立事件。\n",
    "因此有递推关系：f（n）=f(n-1)+f(n-2)，使用动态规划法解决本问题。时间复杂度：O(n)"
   ]
  },
  {
   "cell_type": "code",
   "execution_count": 16,
   "metadata": {},
   "outputs": [
    {
     "name": "stdout",
     "output_type": "stream",
     "text": [
      "3\n",
      "8\n",
      "233\n"
     ]
    }
   ],
   "source": [
    "# add your code here\n",
    "def climb_stairs(n: int) -> int:\n",
    "    if n <= 2:\n",
    "        return n  # 直接返回基本情况：f(1)=1, f(2)=2\n",
    "    \n",
    "    # 初始化前两个状态\n",
    "    a, b = 1, 2  # a表示f(n-2)，b表示f(n-1)\n",
    "    \n",
    "    for _ in range(3, n + 1):\n",
    "        current = a + b\n",
    "        a = b\n",
    "        b = current\n",
    "    \n",
    "    return b\n",
    "\n",
    "#测试\n",
    "print(climb_stairs(3)) \n",
    "print(climb_stairs(5))  \n",
    "print(climb_stairs(12)) "
   ]
  },
  {
   "cell_type": "markdown",
   "metadata": {},
   "source": [
    "## 问题 5 \n",
    "\n",
    "> 0-1背包问题：现在有4块大理石，每个大理石对应的重量和价值使用一个元组表示, 即（重量，价值），4块大理石的重量和价值为：[(5,10), (4,40), (6,30), (3, 50)], 假设你有一辆最大承重为9的小推车，请问使用这个小推车装大理石的最大价值为多少\n",
    "\n",
    "请设计一个算法解决该问题，分析算法设计思路，计算时间复杂度，并基于python编程实现"
   ]
  },
  {
   "cell_type": "markdown",
   "metadata": {},
   "source": [
    "idea：\n",
    "定义状态dp[i][j]表示从前i件物品中选取若干件放入容量为j的背包所能获得的最大价值。假设物品数量n，背包容量为m，则时间复杂度为O(mn)，有两层循环，外层n内层m。"
   ]
  },
  {
   "cell_type": "code",
   "execution_count": 23,
   "metadata": {},
   "outputs": [
    {
     "name": "stdout",
     "output_type": "stream",
     "text": [
      "90\n"
     ]
    }
   ],
   "source": [
    "# add your code here\n",
    "def knapsack( values, weights, capacity):\n",
    "    n = len(weights)\n",
    "    # 创建二维数组，dp[i][j]表示在前i个物品中选择，背包容量为j时能获得的最大价值\n",
    "    dp = [[0 for _ in range(capacity + 1)] for _ in range(n + 1)]\n",
    "    # 填充dp数组\n",
    "    for i in range(1, n + 1):\n",
    "        for j in range(1, capacity + 1):\n",
    "            if j < weights[i - 1]:\n",
    "                dp[i][j] = dp[i - 1][j]\n",
    "            else:\n",
    "                dp[i][j] = max(dp[i - 1][j], dp[i - 1][j - weights[i - 1]] + values[i - 1])\n",
    "    return dp[n][capacity]\n",
    "\n",
    "\n",
    "# 大理石的重量和价值\n",
    "marbles = [(5, 10), (4, 40), (6, 30), (3, 50)]\n",
    "W = [weight for weight, _ in marbles]\n",
    "V = [value for _, value in marbles]\n",
    "c = 9\n",
    "result = knapsack(V, W, c)\n",
    "print(result)"
   ]
  },
  {
   "cell_type": "markdown",
   "metadata": {},
   "source": [
    "## 问题 6 \n",
    "给定 `n` 个非负整数表示每个宽度为 `1` 的柱子的高度图，计算按此排列的柱子，下雨之后能接多少雨水。\n",
    "\n",
    "\n",
    "\n",
    "<div style=\"text-align:center;width:800px;\"> <img alt=\"\" src=\"./fig/hw3q6.png\"> </div>\n",
    "\n",
    "请分析算法设计思路，计算时间复杂度，并基于python编程实现"
   ]
  },
  {
   "cell_type": "markdown",
   "metadata": {},
   "source": [
    "idea：\n",
    "使用双指针法。通过左右两个指针，从两端向中间遍历，比较左右指针所指柱子高度，确定能接住雨水的量。假设数组长度为n，只需要遍历一次数组，因此时间复杂度为O(n)。"
   ]
  },
  {
   "cell_type": "code",
   "execution_count": 25,
   "metadata": {},
   "outputs": [
    {
     "name": "stdout",
     "output_type": "stream",
     "text": [
      "6\n",
      "9\n"
     ]
    }
   ],
   "source": [
    "# add your code here\n",
    "def trap(height):\n",
    "    if not height:\n",
    "        return 0\n",
    "    left, right = 0, len(height) - 1\n",
    "    left_max, right_max = height[left], height[right]\n",
    "    result = 0\n",
    "    while left < right:\n",
    "        if height[left] < height[right]:\n",
    "            left_max = max(left_max, height[left])\n",
    "            result += left_max - height[left]\n",
    "            left += 1\n",
    "        else:\n",
    "            right_max = max(right_max, height[right])\n",
    "            result += right_max - height[right]\n",
    "            right -= 1\n",
    "    return result\n",
    "#示例：\n",
    "height=[0,1,0,2,1,0,1,3,2,1,2,1]\n",
    "print(trap(height)) \n",
    "height = [4,2,0,3,2,5]\n",
    "print(trap(height)) "
   ]
  },
  {
   "cell_type": "markdown",
   "metadata": {},
   "source": [
    "## 问题 7 \n",
    "\n",
    "**股票投资组合优化**： 假设你是一位投资者，想要在不同的股票中分配你的资金，以最大化你的投资回报。每只股票都有不同的预期收益率和风险。你的目标是选择一些股票，使得总投资金额不超过你的预算，并且预期收益最大化。\n",
    "\n",
    "在这个情况下，你可以将每只股票视为一个“物品”，其重量为投资金额，价值为预期收益率。然后，你可以使用分级背包问题的方法来选择部分股票，以便在预算内获得最大的预期收益。\n",
    "\n",
    "以下是一个简化的例子：\n",
    "\n",
    "假设你有以下三只股票可供选择：\n",
    "\n",
    "1. 股票 A：投资金额 5000 美元，预期收益率 10%\n",
    "2. 股票 B：投资金额 3000 美元，预期收益率 8%\n",
    "3. 股票 C：投资金额 2000 美元，预期收益率 12%\n",
    "\n",
    "请设计算法找到最优投资方案，分析算法设计思路，计算时间复杂度，并基于python编程实现"
   ]
  },
  {
   "cell_type": "markdown",
   "metadata": {},
   "source": [
    "idea：\n",
    "采用贪心算法，将股票按单位投资回报率从高到低排序，按排序后的顺序依次选择股票，尽可能多地投资单位回报率高的股票，直到预算用完。与01背包问题不同的是，可以选择部分股票进行投资。如果某只股票无法全额投资，则投资其部分金额。最复杂的地方是对n只股票进行排序的部分，每只股票排序为O(logn)，则n只排序时间复杂度为O(nlogn)\n",
    "故总时间复杂度为O(nlogn)。"
   ]
  },
  {
   "cell_type": "code",
   "execution_count": 29,
   "metadata": {},
   "outputs": [
    {
     "name": "stdout",
     "output_type": "stream",
     "text": [
      "最大预期收益: $58000.00\n",
      "投资分配:\n",
      "股票 A: 投资 $5000.00 (100.00%)\n",
      "股票 B: 投资 $3000.00 (100.00%)\n",
      "股票 C: 投资 $400.00 (20.00%)\n"
     ]
    }
   ],
   "source": [
    "# add your code here\n",
    "def fractional_knapsack(stocks, budget):\n",
    "    \n",
    "    # 计算每只股票的单位投资回报率\n",
    "    # 并按单位回报率从高到低排序\n",
    "    sorted_stocks = sorted(\n",
    "        [(cost, return_rate, return_rate/cost) for cost, return_rate in stocks],\n",
    "        key=lambda x: x[2],\n",
    "        reverse=True\n",
    "    )\n",
    "    \n",
    "    total_return = 0.0\n",
    "    selected = [0.0] * len(stocks)\n",
    "\n",
    "    for i, (cost, return_rate, unit_return) in enumerate(sorted_stocks):\n",
    "        if budget <= 0:\n",
    "            break  # 预算用完，退出循环\n",
    "        \n",
    "        fraction = min(1.0, budget / cost)\n",
    "        selected[i] = fraction\n",
    "        total_return += fraction * return_rate * cost\n",
    "        budget -= fraction * cost\n",
    "    \n",
    "    return total_return, selected\n",
    "\n",
    "# 测试\n",
    "stocks = [\n",
    "    (5000, 0.10),  # 股票A：投资5000美元，预期收益率10%\n",
    "    (3000, 0.08),  # 股票B：投资3000美元，预期收益率8%\n",
    "    (2000, 0.12),  # 股票C：投资2000美元，预期收益率12%\n",
    "]\n",
    "budget = 6000\n",
    "\n",
    "# 计算最优投资方案\n",
    "max_return, selection = fractional_knapsack(stocks, budget)\n",
    "\n",
    "# 结果\n",
    "print(f\"最大预期收益: ${max_return * 100:.2f}\")\n",
    "print(\"投资分配:\")\n",
    "for i, (cost, return_rate) in enumerate(stocks):\n",
    "    print(f\"股票 {chr(65 + i)}: 投资 ${selection[i] * cost:.2f} ({selection[i] * 100:.2f}%)\")"
   ]
  },
  {
   "cell_type": "markdown",
   "metadata": {},
   "source": [
    "## 问题 8\n",
    "\n",
    "给你二叉搜索树的根节点 root ，该树中的恰好两个节点的值被错误地交换。请在不改变其结构的情况下，恢复这棵树 。设计算法解决该问题，分析算法设计思路，计算时间复杂度，并基于python编程实现\n",
    "\n",
    "e.g.:\n",
    "---\n",
    "1.\n",
    "\n",
    "<div style=\"text-align:center;width:200px;\"> <img alt=\"\" src=\"./fig/hw3q9-1.jpg\"> </div>\n",
    "输入：root = [1,3,null,null,2]， 输出为：[3,1,null,null,2]， \n",
    "\n",
    "解释：3 不能是 1 的左孩子，因为 3 > 1 。交换 1 和 3 使二叉搜索树有效。\n",
    "\n",
    "2.\n",
    "\n",
    " <div style=\"text-align:center;width:200px;\"> <img alt=\"\" src=\"./fig/hw3q9-1.jpg\"> </div>\n",
    "输入： root=[3,1,4,null,null,2]， 输出为：[2,1,4,null,null,3]\n",
    "\n",
    "解释：2 不能在 3 的右子树中，因为 2 < 3 。交换 2 和 3 使二叉搜索树有效。"
   ]
  },
  {
   "cell_type": "markdown",
   "metadata": {},
   "source": [
    "idea：\n",
    "用二叉搜索树的中序遍历解决，通过中序遍历二叉搜索树，在遍历过程中记录节点及其前驱节点。因为二叉搜索树中序遍历是递增序列，若当前节点值小于前驱节点值，说明可能发现了错误交换节点中的一个。每个节点都需要被访问一次，因此时间复杂度为O(n)。"
   ]
  },
  {
   "cell_type": "code",
   "execution_count": 35,
   "metadata": {},
   "outputs": [
    {
     "ename": "AttributeError",
     "evalue": "'list' object has no attribute 'left'",
     "output_type": "error",
     "traceback": [
      "\u001b[1;31m---------------------------------------------------------------------------\u001b[0m",
      "\u001b[1;31mAttributeError\u001b[0m                            Traceback (most recent call last)",
      "Cell \u001b[1;32mIn[35], line 36\u001b[0m\n\u001b[0;32m     34\u001b[0m \u001b[38;5;66;03m# 测试\u001b[39;00m\n\u001b[0;32m     35\u001b[0m root_1 \u001b[38;5;241m=\u001b[39m [\u001b[38;5;241m1\u001b[39m,\u001b[38;5;241m3\u001b[39m,\u001b[38;5;28;01mNone\u001b[39;00m,\u001b[38;5;28;01mNone\u001b[39;00m,\u001b[38;5;241m2\u001b[39m]\n\u001b[1;32m---> 36\u001b[0m result \u001b[38;5;241m=\u001b[39m recoverTree(root_1)\n\u001b[0;32m     37\u001b[0m \u001b[38;5;28mprint\u001b[39m(result)\n\u001b[0;32m     38\u001b[0m root_2\u001b[38;5;241m=\u001b[39m[\u001b[38;5;241m3\u001b[39m,\u001b[38;5;241m1\u001b[39m,\u001b[38;5;241m4\u001b[39m,\u001b[38;5;28;01mNone\u001b[39;00m,\u001b[38;5;28;01mNone\u001b[39;00m,\u001b[38;5;241m2\u001b[39m]\n",
      "Cell \u001b[1;32mIn[35], line 30\u001b[0m, in \u001b[0;36mrecoverTree\u001b[1;34m(root)\u001b[0m\n\u001b[0;32m     27\u001b[0m     pre \u001b[38;5;241m=\u001b[39m node\n\u001b[0;32m     28\u001b[0m     inorderTraversal(node\u001b[38;5;241m.\u001b[39mright)\n\u001b[1;32m---> 30\u001b[0m inorderTraversal(root)\n\u001b[0;32m     31\u001b[0m first\u001b[38;5;241m.\u001b[39mval, second\u001b[38;5;241m.\u001b[39mval \u001b[38;5;241m=\u001b[39m second\u001b[38;5;241m.\u001b[39mval, first\u001b[38;5;241m.\u001b[39mval\n\u001b[0;32m     32\u001b[0m \u001b[38;5;28;01mreturn\u001b[39;00m root\n",
      "Cell \u001b[1;32mIn[35], line 19\u001b[0m, in \u001b[0;36mrecoverTree.<locals>.inorderTraversal\u001b[1;34m(node)\u001b[0m\n\u001b[0;32m     17\u001b[0m \u001b[38;5;28;01mif\u001b[39;00m \u001b[38;5;129;01mnot\u001b[39;00m node:\n\u001b[0;32m     18\u001b[0m     \u001b[38;5;28;01mreturn\u001b[39;00m\n\u001b[1;32m---> 19\u001b[0m inorderTraversal(node\u001b[38;5;241m.\u001b[39mleft)\n\u001b[0;32m     20\u001b[0m \u001b[38;5;28;01mif\u001b[39;00m pre\u001b[38;5;241m.\u001b[39mval \u001b[38;5;241m>\u001b[39m node\u001b[38;5;241m.\u001b[39mval:\n\u001b[0;32m     21\u001b[0m     \u001b[38;5;28;01mif\u001b[39;00m \u001b[38;5;129;01mnot\u001b[39;00m first:\n",
      "\u001b[1;31mAttributeError\u001b[0m: 'list' object has no attribute 'left'"
     ]
    }
   ],
   "source": [
    "# add your code here\n",
    "# 定义二叉树节点类\n",
    "class TreeNode:\n",
    "    def __init__(self, val=0, left=None, right=None):\n",
    "        self.val = val\n",
    "        self.left = left\n",
    "        self.right = right\n",
    "\n",
    "def recoverTree(root):\n",
    "    # 用于存储中序遍历过程中的错误节点\n",
    "    first = None\n",
    "    second = None\n",
    "    # 记录中序遍历的前驱节点\n",
    "    pre = TreeNode(float('-inf'))\n",
    "    def inorderTraversal(node):\n",
    "        nonlocal first, second, pre\n",
    "        if not node:\n",
    "            return\n",
    "        inorderTraversal(node.left)\n",
    "        if pre.val > node.val:\n",
    "            if not first:\n",
    "                first = pre\n",
    "                second = node\n",
    "            else:\n",
    "                second = node\n",
    "\n",
    "        pre = node\n",
    "        inorderTraversal(node.right)\n",
    "\n",
    "    inorderTraversal(root)\n",
    "    first.val, second.val = second.val, first.val\n",
    "    return root\n",
    "\n",
    "# 测试\n",
    "root_1 = [1,3,None,None,2]\n",
    "result = recoverTree(root_1)\n",
    "print(result)\n",
    "root_2=[3,1,4,None,None,2]\n",
    "result = recoverTree(root_2)\n",
    "print(result)"
   ]
  },
  {
   "cell_type": "markdown",
   "metadata": {},
   "source": [
    "## 问题 9  \n",
    "\n",
    "给你一个二叉树的根节点 root ，树中每个节点都存放有一个 0 到 9 之间的数字。每条从根节点到叶节点的路径都代表一个数字：\n",
    "\n",
    "> 例如，从根节点到叶节点的路径 1 -> 2 -> 3 表示数字 123 。\n",
    "\n",
    "设计一个算法计算从根节点到叶节点生成的所有数字之和 ，分析算法设计思路，计算时间复杂度，并基于python编程实现\n",
    "\n",
    "叶节点:是指没有子节点的节点。\n",
    "\n",
    "e.g.:\n",
    "---\n",
    "1.\n",
    "\n",
    " <div style=\"text-align:center;width:200px;\"> <img alt=\"figure\" src=\"./fig/hw3q10-1.jpg\"> </div>\n",
    "\n",
    " 输入：root = [1,2,3], 输出：25\n",
    "\n",
    "解释：从根到叶子节点路径 1->2 代表数字 12，1->3 代表数字 13，因此和为 12 + 13 = 25 。\n",
    "\n",
    "2.\n",
    "\n",
    " <div style=\"text-align:center;width:200px;\"> <img alt=\"figure\" src=\"./fig/hw3q10-2.jpg\"> </div>\n",
    "\n",
    " 输入：root = [4,9,0,5,1], 输出：1026\n",
    "\n",
    "解释：从根到叶子节点路径 4->9->5 代表数字 495，4->9->1 代表数字 491，4->0 代表数字 40。因此和为 495 + 491 + 40 = 1026 。"
   ]
  },
  {
   "cell_type": "markdown",
   "metadata": {},
   "source": [
    "idea："
   ]
  },
  {
   "cell_type": "code",
   "execution_count": null,
   "metadata": {},
   "outputs": [],
   "source": [
    "# add your code here\n",
    "# your algorithm time complexity is:"
   ]
  },
  {
   "cell_type": "markdown",
   "metadata": {},
   "source": [
    "## 问题 10  \n",
    "\n",
    "给你一个二叉树的根节点 root ， 检查它是否轴对称。\n",
    "\n",
    "1. 分析算法设计思路，计算时间复杂度，并基于python编程实现\n",
    "2. \\* 设计使用递归和迭代两种方法解决这个问题，计算时间复杂度，并基于python编程实现\n",
    "\n",
    "e.g.:\n",
    "---\n",
    "1.\n",
    "\n",
    " <div style=\"text-align:center;width:200px;\"> <img alt=\"figure\" src=\"./fig/hw3q11-1.png\"> </div>\n",
    "\n",
    " 输入：root = [1,2,2,3,4,4,3]， 输出：true\n",
    "\n",
    "解释：二叉树 [1,2,2,3,4,4,3] 对称。\n",
    "\n",
    "2.\n",
    "\n",
    " <div style=\"text-align:center;width:200px;\"> <img alt=\"figure\" src=\"./fig/hw3q11-2.png\"> </div>\n",
    "\n",
    " 输入：root = [1,2,2,null,3,null,3]， 输出：false"
   ]
  },
  {
   "cell_type": "markdown",
   "metadata": {},
   "source": [
    "idea"
   ]
  },
  {
   "cell_type": "code",
   "execution_count": null,
   "metadata": {},
   "outputs": [],
   "source": [
    "# add your code here\n",
    "# your algorithm time complexity is:"
   ]
  },
  {
   "cell_type": "markdown",
   "metadata": {},
   "source": [
    "## 问题 11  \n",
    "\n",
    "给你一个由 '1'（陆地）和 '0'（水）组成的的二维网格，请你计算网格中岛屿的数量。岛屿总是被水包围，并且每座岛屿只能由水平方向和/或竖直方向上相邻的陆地连接形成。\n",
    "\n",
    "此外，你可以假设该网格的四条边均被水包围。\n",
    "\n",
    "分析算法设计思路，计算时间复杂度，并基于python编程实现\n",
    "\n",
    "e.g.:\n",
    "---\n",
    "1.\n",
    "输入：grid = [\n",
    "\n",
    "    [\"1\",\"1\",\"1\",\"1\",\"0\"],\n",
    "\n",
    "    [\"1\",\"1\",\"0\",\"1\",\"0\"], \n",
    "\n",
    "    [\"1\",\"1\",\"0\",\"0\",\"0\"], \n",
    "\n",
    "    [\"0\",\"0\",\"0\",\"0\",\"0\"]  \n",
    "\n",
    "]\n",
    "\n",
    "输出：1\n",
    "\n",
    "2.\n",
    "输入：grid = [\n",
    "\n",
    "    [\"1\",\"1\",\"0\",\"0\",\"0\"],\n",
    "\n",
    "    [\"1\",\"1\",\"0\",\"0\",\"0\"],\n",
    "\n",
    "    [\"0\",\"0\",\"1\",\"0\",\"0\"],\n",
    "\n",
    "    [\"0\",\"0\",\"0\",\"1\",\"1\"]\n",
    "\n",
    "]\n",
    "\n",
    "输出：3"
   ]
  },
  {
   "cell_type": "markdown",
   "metadata": {},
   "source": [
    "idea:\n",
    "这个问题可以通过深度优先搜索或广度优先搜索来解决。核心思路是遍历整个网格，每当发现一个陆地时，就从该点出发，将其所有相连的陆地标记为已访问，并将岛屿数量加1。假设m和n分别是网格的行数和列数，遍历每个单元格一次，时间复杂度为O(mn)。"
   ]
  },
  {
   "cell_type": "code",
   "execution_count": 37,
   "metadata": {},
   "outputs": [
    {
     "name": "stdout",
     "output_type": "stream",
     "text": [
      "1\n",
      "3\n"
     ]
    }
   ],
   "source": [
    "# add your code here\n",
    "def numIslands(grid):\n",
    "    if not grid or not grid[0]:\n",
    "        return 0\n",
    "    \n",
    "    rows, cols = len(grid), len(grid[0])\n",
    "    count = 0\n",
    "    \n",
    "    def dfs(r, c):\n",
    "        # 判断坐标是否越界或当前单元格是否为水或已访问\n",
    "        if r < 0 or r >= rows or c < 0 or c >= cols or grid[r][c] == '0':\n",
    "            return\n",
    "        \n",
    "        grid[r][c] = '0'\n",
    "        \n",
    "        # 递归访问上下左右四个方向的相邻单元格\n",
    "        dfs(r + 1, c)\n",
    "        dfs(r - 1, c)\n",
    "        dfs(r, c + 1)\n",
    "        dfs(r, c - 1)\n",
    "    \n",
    "    for r in range(rows):\n",
    "        for c in range(cols):\n",
    "            if grid[r][c] == '1':\n",
    "                dfs(r, c)\n",
    "                count += 1\n",
    "    \n",
    "    return count\n",
    "\n",
    "# 测试\n",
    "grid1 = [\n",
    "    [\"1\",\"1\",\"1\",\"1\",\"0\"],\n",
    "    [\"1\",\"1\",\"0\",\"1\",\"0\"],\n",
    "    [\"1\",\"1\",\"0\",\"0\",\"0\"],\n",
    "    [\"0\",\"0\",\"0\",\"0\",\"0\"]\n",
    "]\n",
    "result = numIslands(grid1)\n",
    "print(result)\n",
    "\n",
    "grid2 = [\n",
    "    [\"1\",\"1\",\"0\",\"0\",\"0\"],\n",
    "    [\"1\",\"1\",\"0\",\"0\",\"0\"],\n",
    "    [\"0\",\"0\",\"1\",\"0\",\"0\"],\n",
    "    [\"0\",\"0\",\"0\",\"1\",\"1\"]\n",
    "]\n",
    "result = numIslands(grid2)\n",
    "print(result)"
   ]
  },
  {
   "cell_type": "code",
   "execution_count": null,
   "metadata": {},
   "outputs": [],
   "source": []
  }
 ],
 "metadata": {
  "kernelspec": {
   "display_name": "Python [conda env:base] *",
   "language": "python",
   "name": "conda-base-py"
  },
  "language_info": {
   "codemirror_mode": {
    "name": "ipython",
    "version": 3
   },
   "file_extension": ".py",
   "mimetype": "text/x-python",
   "name": "python",
   "nbconvert_exporter": "python",
   "pygments_lexer": "ipython3",
   "version": "3.12.7"
  }
 },
 "nbformat": 4,
 "nbformat_minor": 4
}
