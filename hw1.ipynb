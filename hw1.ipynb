{
 "cells": [
  {
   "cell_type": "markdown",
   "metadata": {},
   "source": [
    "## algorithm design and anlysis-2025 spring  homework 1 \n",
    "**Deadline**：2025.5.14\n",
    "\n",
    "**name**: 刘乔坤\n",
    "\n",
    "\n",
    "note：\n",
    "---\n",
    "1. 带有\\*的题目，申请免上课的同学，必须完成，其他同学选作；\n",
    "2. 请独立完成，如求助了他人或者大模型，请著明，并且不可省略算法分析部分；\n",
    "4. 如若作答有雷同，全部取消成绩；\n",
    "3. 需要书面作答的题目，可以通过引用图片的形式添加，但是注意上传项目时包含所引用的图片的源文件；\n",
    "4. $log_n$ 默认表示$log_2{n}$;"
   ]
  },
  {
   "cell_type": "markdown",
   "metadata": {},
   "source": [
    "## 问题 1\n",
    "\n",
    "对于下面的每一对表达式(A, B), A是否能表示为B的 $\\Theta, \\Omega ,O$形式. 请注意, 这些关系中的零个、一个或多个可能成立。列出所有正确的。经常发生一些学生会,把指示写错, 所以请把关系写完整, 例如: $A = O(B),  A =\\Theta(B)$, 或$A = \\Omega(B)$。\n",
    "\n",
    "1. $A=n^2-100n, B=n^2$\n",
    "2. $A=logn, B=log_{1.2}n$\n",
    "3. $A=3^{2n}, B=2^{4n}$\n",
    "4. $A=2^{logn}, B=n$\n",
    "5. $A=\\log{\\log}{n},B=10^{10^{100}}$"
   ]
  },
  {
   "cell_type": "markdown",
   "metadata": {},
   "source": [
    "我的答案\n",
    "1. $A = O(B)$, $A =\\Theta(B)$, $A = \\Omega(B)$\n",
    "2. $A = O(B)$, $A =\\Theta(B)$, $A = \\Omega(B)$\n",
    "3. $A = O(B)$\n",
    "4. $A = O(B)$, $A =\\Theta(B)$, $A = \\Omega(B)$\n",
    "5. $A = \\Omega(B)$"
   ]
  },
  {
   "cell_type": "markdown",
   "metadata": {},
   "source": [
    "can refer a handwritten picture, pleas upload the picture in /fig/xxx.png\n",
    "answer:\n"
   ]
  },
  {
   "cell_type": "markdown",
   "metadata": {},
   "source": [
    "## 问题 2：\n",
    "\n",
    "假设有函数 $f$ 和 $g$ 使得 $f(n)$ = $O(g(n))$ 对于下面的每一个陈述, 请判断对错, 如果正确请给出证明, 否则请给出一个反例。\n",
    "\n",
    "1. $\\log{f(n)}$ = $O(\\log(1+g(n)))$\n",
    "2. $3^{f(n)}=O(3^{g(n)})$\n",
    "3. $(f(n))^2=O((g(n))^2)$ "
   ]
  },
  {
   "cell_type": "markdown",
   "metadata": {},
   "source": [
    "我的答案\n",
    "1. 错。假设f(n) = 1/n，g(n) = 1，因为当n趋近于无穷时，logf(n) = −logn，log(1+g(n)) = log2。|logf(n)|=logn，当n趋近无穷时，无法找到c使|logf(n)| < clog2。\n",
    "2. 错。假设f(n) = 2n，g(n) = n，因为当n趋近于无穷时，9^n不等于O(3^n)。 \n",
    "3. 对。因为f(n) = O(g(n))，所以存在c使n趋近无穷时，有f(n) < cg(n)。因此n趋近无穷时，有f(n)^2 < c^2g(n)^2。令c^2 = k，则存在k当n趋近无穷时有f(n)^2 < k2g(n)^2，所以原式成立。"
   ]
  },
  {
   "cell_type": "markdown",
   "metadata": {},
   "source": [
    "you can refer a handwritten picture, pleas upload the picture in /fig/xxx.png\n",
    "answer:"
   ]
  },
  {
   "cell_type": "markdown",
   "metadata": {},
   "source": [
    "## 问题 3\n",
    "\n",
    "根据下列递归公式, 计算下列 $T(n)$ 对应的的渐近上界。要求所求的边界尽可能的紧（tight）, 请写明步骤。\n",
    "\n",
    "1. $T(1)=1; T(n)=T(n/4)+1$ for $n>1$\n",
    "2. $T(1)=1;T(n)=3T(n/3)+n^2$ for $n>1$\n",
    "3. $T(1)=1;T(n)=T(2n/3)+1$ for $n>1$\n",
    "4. $T(1)=1;T(n)=5T(n/4)+n$ for $n>1$\n",
    "5. $T(n)=1 \\ for\\ n \\le 2 ; T(n)=T(\\sqrt{n})+1 \\ for \\ n>2$"
   ]
  },
  {
   "cell_type": "markdown",
   "metadata": {},
   "source": [
    "我的答案\n",
    "1. T(n) = O(logn)，由Master Theorem，f(n) = 1 = n^(log4 1)，因此T(n) = O(logn)。\n",
    "2. T(n) = O(n^2)， 由Master Theorem，f(n) = n^2，f(n)比n^(log3 3)增长更快，因此T(n) = O(f(n)) = O(n^2)。\n",
    "3. T(n) = O(logn))，由Master Theorem，f(n) = 1 = n^(log3/2 1)，因此T(n) = O(logn)。\n",
    "4. T(n) = O(n^(log4 5))，由Master Theorem，f(n) = n，f(n)比n^(log4 5)增长更慢，因此T(n) = O(n^(log4 5))。\n",
    "5. T(n) = O(loglogn)，每次递归规模为n^(1/2)，因此递归深度n^((1/2)^k) < 2，k = O(loglogn)，因此T(n) = O(loglogn)。"
   ]
  },
  {
   "cell_type": "markdown",
   "metadata": {},
   "source": [
    "can refer a handwritten picture, pleas upload the picture in /fig/xxx.png\n",
    "answer:"
   ]
  },
  {
   "cell_type": "markdown",
   "metadata": {},
   "source": [
    "## 问题 4：\n",
    "\n",
    "给定一个包含n个元素的数组 `profits` , 它的第 `i` 个元素 `profits[i]` 表示一支股票第 `i` 天的**收益**（正数表示涨, 负数表示跌）。你只能选择 **某一天** 买入这只股票, 并选择在 **未来的某一个不同的日子** 卖出该股票。\n",
    "\n",
    "1. 设计一个算法来计算你所能获取的最大利润和对应买入和卖出的日期。请分析算法方案, 计算其时间复杂度, 并且使用python编程实现该算法。\n",
    "\n",
    "2. \\* 设计一个时间复杂度为 $O(n)$的算法实现该算法\n",
    "\n",
    "e.g. :\n",
    "---\n",
    "profits=[3,2,1,-7,5,2,-1,3,-1], 第5天买入, 第8天卖出, 收益最大：9\n",
    "\n"
   ]
  },
  {
   "cell_type": "markdown",
   "metadata": {},
   "source": [
    "idea:\n",
    "任务相当于寻找一个连续子列表之和的最大值。起始买入日期为第一天，起始卖出日期为第二天。遍历列表，计算当前子列表和当前元素之和，如果该值大于当前元素本身，则扩展子列表。否则，以当前元素作为新子列表的起点。每次更新当前子列表后，检查并更新全局最大值及子列表起始节点。\n",
    "算法只需一次遍历完所有列表元素，即可算出结果。所以时间复杂度为$O(n)$。"
   ]
  },
  {
   "cell_type": "code",
   "execution_count": 73,
   "metadata": {},
   "outputs": [
    {
     "name": "stdout",
     "output_type": "stream",
     "text": [
      "第5天买入，第10天卖出，收益最大：18\n"
     ]
    }
   ],
   "source": [
    "# add your code\n",
    "def calculate_max_profit(profits):\n",
    "    current_max_profit, max_profit = profits[0], profits[0]\n",
    "    current_buy_index, current_sell_index = 0, 1\n",
    "    buy_index, sell_index = 0, 1\n",
    "    \n",
    "    for i in range(1, len(profits)):\n",
    "        temp = current_max_profit + profits[i]\n",
    "        if temp > profits[i]:\n",
    "            current_max_profit = temp\n",
    "            current_sell_index = i\n",
    "        else:\n",
    "            current_max_profit = profits[i]\n",
    "            current_buy_index = current_sell_index = i\n",
    "        \n",
    "        if current_max_profit > max_profit:\n",
    "            max_profit = current_max_profit\n",
    "            buy_index = current_buy_index\n",
    "            sell_index = current_sell_index\n",
    "    \n",
    "    return max_profit, buy_index+1, sell_index+1\n",
    "\n",
    "# 测试列表\n",
    "profits = [3,2,1,-7,5,2,-1,3,-1]\n",
    "result = calculate_max_profit(profits)\n",
    "print(f\"第{result[1]}天买入，第{result[2]}天卖出，收益最大：{result[0]}\")"
   ]
  },
  {
   "cell_type": "markdown",
   "metadata": {},
   "source": [
    "# an algorithm with O(n)\n",
    "上述代码时间复杂度为O(n)"
   ]
  },
  {
   "cell_type": "markdown",
   "metadata": {},
   "source": [
    "## 问题 5：\n",
    "\n",
    "观察下方的分治算法（divide-and-conquer algorithm）的伪代码, 回答下面问题\n",
    "\n",
    "```latex\n",
    "DoSomething(A,p,r)\n",
    "-----\n",
    "n := r-p+1\n",
    "if n=2 and A[p]>A[r] then\n",
    "    swap A[p] and A[r]\n",
    "else if n >= 3 then\n",
    "    m = ceil(2n/3)\n",
    "    DoSomething(A,p,p+m-1)\n",
    "    DoSomething(A,r-m+1,r)\n",
    "    DoSomething(A,p,p+m-1)  \n",
    "    \n",
    "---\n",
    "first call: DoSomething(A,1,n)\n",
    "```\n",
    "\n",
    "note：$ceil(2n/3)=\\left\\lceil {2n/3} \\right\\rceil$；$:=$ 表示赋值, 等价于 $\\to$；A是一个包含n的整数元素的数组, \n",
    "\n",
    "1. 写出该算法时间复杂度的递归公式, 并求解其对应的渐进表示\n",
    "2. 描述一下该算法的功能, 并判断是否是最高效的解决方案\n",
    "3. 使用python编程实现上述算法或其对应的更高效版本的算法\n"
   ]
  },
  {
   "cell_type": "markdown",
   "metadata": {},
   "source": [
    "idea：\n",
    "1. 递归公式：T(n) = 3T(2n/3)+1，渐进表示：$T(n)=O(n^{log_{3/2}3})$。"
   ]
  },
  {
   "cell_type": "markdown",
   "metadata": {},
   "source": [
    "answer:\n",
    "2. 该算法递归处理前2/3、后2/3，再重复处理前2/3。时间复杂度并非最优，存在许多时间复杂度为$O(nlogn)$的算法。"
   ]
  },
  {
   "cell_type": "code",
   "execution_count": 2,
   "metadata": {},
   "outputs": [],
   "source": [
    "# add your code here\n",
    "# your algorithm time complexity is :\n",
    "#使用归并排序\n",
    "def merge_sort(input_list):\n",
    "    if len(input_list) > 1:\n",
    "        mid = len(input_list) // 2\n",
    "        L = input_list[:mid]\n",
    "        R = input_list[mid:]\n",
    "        merge_sort(L)\n",
    "        merge_sort(R)\n",
    "        \n",
    "        i = j = k = 0\n",
    "        while i < len(L) and j < len(R):\n",
    "            if L[i] <= R[j]:\n",
    "                input_list[k] = L[i]\n",
    "                i += 1\n",
    "            else:\n",
    "                input_list[k] = R[j]\n",
    "                j += 1\n",
    "            k += 1\n",
    "        \n",
    "        while i < len(L):\n",
    "            input_list[k] = L[i]\n",
    "            i += 1\n",
    "            k += 1\n",
    "        \n",
    "        while j < len(R):\n",
    "            input_list[k] = R[j]\n",
    "            j += 1\n",
    "            k += 1"
   ]
  },
  {
   "cell_type": "markdown",
   "metadata": {},
   "source": [
    "## 问题 6：\n",
    "\n",
    "给定一个大小为 `n` 的数组 `nums` , 返回其中的多数元素。多数元素是指在数组中出现次数 **大于** `⌊ n/2 ⌋` 的元素。\n",
    "\n",
    "你可以假设数组是非空的, 并且给定的数组总是存在多数元素。\n",
    "\n",
    "1. 设计一个算法找到给定数组的多数元素, 分析算法设计思路, 计算算法时间复杂度, 使用python编程实现\n",
    "2. \\* 设计时间复杂度为 O(n)、空间复杂度为 O(1) 的算法解决此问题, 分析算法设计思路, 使用python编程实现\n",
    "\n",
    "e.g.:\n",
    "---\n",
    "1. nums=[3,2,3], 返回3\n",
    "2. nums=[2,2,1,1,1,2,2], 返回2\n"
   ]
  },
  {
   "cell_type": "markdown",
   "metadata": {},
   "source": [
    "idea：\n",
    "题目假定存在一个元素的数量大于整体数量的一半以上，那么这个元素的数量减去其他元素的数量肯定是非负数。可以通过相减的方法，标记一种元素，遍历列表，通过加减标记元素的数量改变标记元素，遍历完后最后留下的那个标记元素就是多数元素。\n",
    "假设数组长度为n，只需进行一次遍历就可以完成任务，因此整体时间为O(n)。"
   ]
  },
  {
   "cell_type": "code",
   "execution_count": 6,
   "metadata": {},
   "outputs": [
    {
     "name": "stdout",
     "output_type": "stream",
     "text": [
      "3\n",
      "2\n"
     ]
    }
   ],
   "source": [
    "# add your code here\n",
    "# your algorithm time complexity is :\n",
    "def count_majority(num_list):\n",
    "    target = None\n",
    "    count = 0\n",
    "    \n",
    "    for num in num_list:\n",
    "        if count == 0:\n",
    "            target = num\n",
    "        count += 1 if num == target else -1\n",
    "    \n",
    "    return target\n",
    "\n",
    "# 测试\n",
    "nums_1 = [3, 2, 3]\n",
    "print(count_majority(nums_1))\n",
    "nums_2 = [2,2,1,1,1,2,2]\n",
    "print(count_majority(nums_2))"
   ]
  },
  {
   "cell_type": "markdown",
   "metadata": {},
   "source": [
    "idea for 2\\*："
   ]
  },
  {
   "cell_type": "markdown",
   "metadata": {},
   "source": [
    "# algorithm time complexity：O(n), space complexity:O(1)\n",
    "# add your code here\n",
    "上述代码的时间复杂度为O(n)、空间复杂度为O(1)。"
   ]
  },
  {
   "cell_type": "markdown",
   "metadata": {},
   "source": [
    "## 问题 7：\n",
    "\n",
    "给定一个包含不同整数元素的数组 $ A[1..n]$ ,并且满足条件：$A[1]>A[2]$ 并且 $A[n-1]<A[n]$; 规定：如果一个元素比它两边的邻居元素都小, 即：$A[x]<A[x-1], A[x]<A[x+1]$ , 称这个元素A[x]为“局部最小”。通过遍历一次数组, 我们可以很容易在 $O(n)$的时间复杂度下找到一个局部最小值, \n",
    "\n",
    "\n",
    "1. 分析该问题, 设计一个算法在$O(logn)$的时间复杂度下找到一个局部最小(返回数值), 要求：分析算法设计思路, 并且使用python编程实现\n",
    "2. \\* 设计算法找出所有局部最小值, 分析算法设计思路, 并使用python编程实现\n",
    "\n",
    "e.g.:\n",
    "---\n",
    "A=[9, 3, 7, 2, 1, 4, 5 ] 时,  局部最小元素为 3, 1\n"
   ]
  },
  {
   "cell_type": "markdown",
   "metadata": {},
   "source": [
    "idea：\n",
    "可以利用二分法寻找一个局部最小值，只要每次选择中点，比较其与左右邻居即可。"
   ]
  },
  {
   "cell_type": "code",
   "execution_count": 19,
   "metadata": {},
   "outputs": [
    {
     "name": "stdout",
     "output_type": "stream",
     "text": [
      "1\n"
     ]
    }
   ],
   "source": [
    "# add your code here\n",
    "# your algorithm time complexity is :\n",
    "def find_local_min(A):\n",
    "    n = len(A)\n",
    "    left, right = 1, n-2\n",
    "    while left <= right:\n",
    "        mid = (left + right) // 2\n",
    "        # 检查是否是局部最小\n",
    "        if A[mid] < A[mid - 1] and A[mid] < A[mid + 1]:\n",
    "            return A[mid]\n",
    "        elif A[mid] > A[mid - 1]:\n",
    "            right = mid - 1\n",
    "        else:\n",
    "            left = mid + 1\n",
    "\n",
    "# 示例\n",
    "A = [9,3,7,2,1,4,5]\n",
    "print(find_local_min(A))"
   ]
  },
  {
   "cell_type": "markdown",
   "metadata": {},
   "source": [
    "idea:\n",
    "遍历数组中间部分，检查每个元素是否满足局部最小条件。直接遍历所有可能的位置即可收集所有结果。"
   ]
  },
  {
   "cell_type": "code",
   "execution_count": 23,
   "metadata": {},
   "outputs": [
    {
     "name": "stdout",
     "output_type": "stream",
     "text": [
      "[3, 1]\n"
     ]
    }
   ],
   "source": [
    "# add your code here\n",
    "# your algorithm time complexity is :\n",
    "def find_all_local_mins(A):\n",
    "    n = len(A)\n",
    "    result = []\n",
    "    for i in range(1, n - 1):\n",
    "        if A[i] < A[i - 1] and A[i] < A[i + 1]:\n",
    "            result.append(A[i])\n",
    "    return result\n",
    "\n",
    "# 示例\n",
    "A = [9,3,7,2,1,4,5]\n",
    "print(find_all_local_mins(A))"
   ]
  },
  {
   "cell_type": "markdown",
   "metadata": {},
   "source": [
    "## 问题 8：\n",
    "\n",
    "给定包含n个不同数字的一组数, 寻找一种基于比较的算法在这组数中找到k个最小的数字, 并按顺序输出它们。\n",
    "\n",
    "1. 将n个数先进行排序, 然后按顺序输出最小的k个数。要求：选择合适的排序算法实现上述操作, 计算算法时间复杂度, 并使用python编程实现。\n",
    "2. 建立一个包含这n个数的堆（heap）, 并且调用 k 次Extract-min 按顺序输出最小的k个数。使用往空堆中不断插入元素的方法建立堆, 分析这种方法建堆的时间复杂度, 并使用python编程实现\n",
    "3. \\* 假设数组中包含的数据总数目超过了计算机的存储能力, 请设计一个算法, 找到这堆数据的前k小的数值, 计算时间复杂度, 并使用python实现该算法, 假设计算机一定能存储k个数据。\n",
    "\n",
    "e.g.：\n",
    "---\n",
    "数组arr=[5,4,3,2,6,1,88,33,22,107] 的前3个最小数据为：1, 2, 3\n"
   ]
  },
  {
   "cell_type": "markdown",
   "metadata": {},
   "source": [
    "idea：\n",
    "1. 归并排序的时间复杂度是O(nlogn)。\n",
    "2. 这种方法的时间复杂度是O(nlogn)。"
   ]
  },
  {
   "cell_type": "code",
   "execution_count": 43,
   "metadata": {},
   "outputs": [
    {
     "name": "stdout",
     "output_type": "stream",
     "text": [
      "[1, 2, 3]\n",
      "[1, 2, 3]\n",
      "[1, 2, 3]\n"
     ]
    }
   ],
   "source": [
    "# add your code here\n",
    "# your algorithm time complexity is :\n",
    "# 1.使用归并排序\n",
    "def merge_sort_min_k(input_list, min_k):\n",
    "    if len(input_list) > 1:\n",
    "        mid = len(input_list) // 2\n",
    "        L = input_list[:mid]\n",
    "        R = input_list[mid:]\n",
    "        merge_sort_min_k(L, len(L))\n",
    "        merge_sort_min_k(R, len(R))\n",
    "        \n",
    "        i = j = k = 0\n",
    "        while i < len(L) and j < len(R):\n",
    "            if L[i] <= R[j]:\n",
    "                input_list[k] = L[i]\n",
    "                i += 1\n",
    "            else:\n",
    "                input_list[k] = R[j]\n",
    "                j += 1\n",
    "            k += 1\n",
    "        \n",
    "        while i < len(L):\n",
    "            input_list[k] = L[i]\n",
    "            i += 1\n",
    "            k += 1\n",
    "        \n",
    "        while j < len(R):\n",
    "            input_list[k] = R[j]\n",
    "            j += 1\n",
    "            k += 1\n",
    "    return input_list[:min_k]\n",
    "\n",
    "# 测试\n",
    "arr=[5,4,3,2,6,1,88,33,22,107]\n",
    "k = 3\n",
    "result = merge_sort_min_k(arr, k)\n",
    "print(result)\n",
    "\n",
    "\n",
    "\n",
    "# 2\n",
    "class MaxHeap:\n",
    "    def __init__(self):\n",
    "        self.heap = []\n",
    "    \n",
    "    def push(self, val):\n",
    "        self.heap.append(val)\n",
    "        self._sift_up(len(self.heap) - 1)\n",
    "    \n",
    "    def pop(self):\n",
    "        if not self.heap:\n",
    "            return None\n",
    "        max_val = self.heap[0]\n",
    "        last = self.heap.pop()\n",
    "        if self.heap:\n",
    "            self.heap[0] = last\n",
    "            self._sift_down(0)\n",
    "        return max_val\n",
    "    \n",
    "    def _sift_up(self, idx):\n",
    "        while idx > 0:\n",
    "            parent = (idx - 1) // 2\n",
    "            if self.heap[idx] > self.heap[parent]:\n",
    "                self.heap[idx], self.heap[parent] = self.heap[parent], self.heap[idx]\n",
    "                idx = parent\n",
    "            else:\n",
    "                break\n",
    "    \n",
    "    def _sift_down(self, idx):\n",
    "        n = len(self.heap)\n",
    "        while True:\n",
    "            left = 2 * idx + 1\n",
    "            right = 2 * idx + 2\n",
    "            largest = idx\n",
    "            if left < n and self.heap[left] > self.heap[largest]:\n",
    "                largest = left\n",
    "            if right < n and self.heap[right] > self.heap[largest]:\n",
    "                largest = right\n",
    "            if largest != idx:\n",
    "                self.heap[idx], self.heap[largest] = self.heap[largest], self.heap[idx]\n",
    "                idx = largest\n",
    "            else:\n",
    "                break\n",
    "    \n",
    "    def __len__(self):\n",
    "        return len(self.heap)\n",
    "\n",
    "def k_smallest_with_heap(nums, k):\n",
    "    if k <= 0:\n",
    "        return []\n",
    "    \n",
    "    max_heap = MaxHeap()\n",
    "    \n",
    "    for num in nums:\n",
    "        max_heap.push(num)\n",
    "        if len(max_heap) > k:\n",
    "            max_heap.pop()\n",
    "    \n",
    "    # 提取堆中元素并排序\n",
    "    def quick_sort(arr):\n",
    "        if len(arr) <= 1:\n",
    "            return arr\n",
    "        pivot = arr[len(arr)//2]\n",
    "        left = [x for x in arr if x < pivot]\n",
    "        middle = [x for x in arr if x == pivot]\n",
    "        right = [x for x in arr if x > pivot]\n",
    "        return quick_sort(left) + middle + quick_sort(right)\n",
    "    \n",
    "    result = max_heap.heap\n",
    "    sorted_result = quick_sort(result)\n",
    "    return sorted_result\n",
    "\n",
    "# 测试\n",
    "arr=[5,4,3,2,6,1,88,33,22,107]\n",
    "k = 3\n",
    "result = k_smallest_with_heap(arr, k)\n",
    "print(result)\n",
    "\n",
    "\n",
    "\n",
    "# 3\n",
    "import heapq\n",
    "\n",
    "def find_k_smallest(arr, k):\n",
    "    if k <= 0:\n",
    "        return []\n",
    "    heap = []\n",
    "    for num in arr:\n",
    "        if len(heap) < k:\n",
    "            heapq.heappush(heap, -num)\n",
    "        else:\n",
    "            if num < -heap[0]:\n",
    "                heapq.heappop(heap)\n",
    "                heapq.heappush(heap, -num)\n",
    "    # 提取并排序结果\n",
    "    return sorted([-x for x in heap])\n",
    "\n",
    "# 测试\n",
    "arr=[5,4,3,2,6,1,88,33,22,107]\n",
    "k = 3\n",
    "result = find_k_smallest(arr, k)\n",
    "print(result)"
   ]
  },
  {
   "cell_type": "markdown",
   "metadata": {},
   "source": [
    "## 问题 9：\n",
    "\n",
    "**选择问题**:给定一个包含n个未排序值的数组A和一个$k≤n$的整数, 返回A中最小的第k项。\n",
    "\n",
    "在课堂上, 学了一个简单的O(n)随机算法来解决选择问题。事实上还有一种更复杂的最坏情况下时间复杂度为$O(n)$ 的选择算法。假设使用一个黑盒过程来实现这个O(n)选择算法: 给定一个数组A、 $p < r$ 和 k,  $BB(A, p, r, k)$ 可以在$O(r−p+ 1)$时间内找到并报告$A[p..r]$中第k小的项的下标。假设你可以在线性时间内处理Partition过程。\n",
    "\n",
    "1. 请分析如何修改 Quicksork 算法可以使其最差情况下的运行时间为 $O(nlogn)$, 使用伪代码实现, 并分析为何修改后的版本最差情况的运行时间为$O(nlogn)$\n",
    "\n",
    "note: 伪代码中, 你可以直接调用用` BB(A,p,r,k)`这个函数用于表示在最坏情况下时间复杂度为$O(n)$的选择算法；\n",
    "\n",
    "\n",
    "\n",
    "2. 找到一个更好的算法报告数组A中的前k小的项, 使用伪代码表示你的算法, 并分析你算法的时间复杂度。\n",
    "\n",
    "举例：A=[13, 3, 7, 9, 11, 1, 15, 2, 8, 10, 12, 16, 14, 5], 当k=4时, 应该报告1, 2, 3, 4\n",
    "\n",
    "note： 最直观的方法就是先将数组A排序, 然后从左向右报告其前k项, 这样操作的时间复杂度为$O(nlogn)$. 调用用` BB(A,p,r,k)`设计一个算法使其报告无序数组A的前k项, 满足时间复杂度好于$\\Theta(nlogn)$, 并且当$k=\\sqrt{n}$时, 你设计的算法时间复杂度应该为$\\Theta(n)$.\n",
    "\n",
    "\n",
    "\n",
    "3. 给定一个大小为n的数组, 找到一个 时间复杂度为$O(n log k)$ 的算法, 该算法将A中的元素重新排序, 使它们被划分为k个部分, 每个部分的元素小于或等于下一部分的元素。假设n和k都是2的幂。使用伪代码表示你的算法, 并分析时间复杂度。\n",
    "\n",
    "e.g.:\n",
    "---\n",
    "数组：[1,  3,  5,  7,  9,  11,  13,  15,  2,  4,  6,  8,  10,  12,  16,  14], k=4, \n",
    "\n",
    "对应重新排序的数组为：[1,  3,  2,  4]  [7,  6,  5,  8]  [12,  11,  10,  9]  [13,  14,  16,  15]\n",
    "\n",
    "\n"
   ]
  },
  {
   "cell_type": "markdown",
   "metadata": {},
   "source": [
    "idea：\n",
    "1. 快速排序在最坏情况下，数组划分过程中可能出现极端不平衡的情况，所以时间复杂度为O(n^2)。\n",
    "2. 利用随机化的分区函数将数组划分为两部分：左侧的小于等于某个基准值，右侧的大于该基准值。如果基准值的位置恰好是第k小的索引位置，则返回基准值及其左侧的所有元素作为结果。如果基准值的位置大于k，则递归处理左半部分.如果小于k，则递归处理右半部分。最好情况时间复杂度是O(n)，但如果数组是倒着的，就是最坏情况O(n^2)。\n",
    "3. 每一层递归都需要执行一次快速选择操作来定位中间值，而快速选择的操作时间为O(n)，整体递归树的高度为logk，因此时间复杂度为O(nlogk)。"
   ]
  },
  {
   "cell_type": "code",
   "execution_count": null,
   "metadata": {},
   "outputs": [],
   "source": [
    "# add your pseudo-code here\n",
    "# 1\n",
    "improved_QS(A, p, r):\n",
    "    if p < r:\n",
    "        q = partition_with_median_medians(A, p, r)\n",
    "        Improved_QS(A, p, q - 1)\n",
    "        Improved_QS(A, q + 1, r)\n",
    "\n",
    "partition_with_median_medians(A, p, r):\n",
    "    median_pivot = select_media_medians(A[p..r], floor((p+r)/2))\n",
    "    将A[r]与等于median_pivot的元素对调。\n",
    "    i = p\n",
    "    for j = p to r - 1:\n",
    "        if A[j] <= median_pivot:\n",
    "            swap A[i] with A[j]\n",
    "            i += 1\n",
    "    swap A[i] with A[r]\n",
    "    return i\n",
    "\n",
    "select_media_medians(A[], k):  \n",
    "    将A分成每组最多5个的子组，并逐个排序。\n",
    "    找出这些子组的中位数，并在这些中位数上递归应用此函数，直到我们得到所需的中点。\n",
    "\n",
    "\n",
    "# 2\n",
    "function QuickSelect(arr, left, right, k):\n",
    "    # 返回前k小的元素，然后对数组进行划分并得到基准值索引\n",
    "    if left == right:\n",
    "        return arr[left:k+1]\n",
    "    pivotIndex = Partition(arr, left, right)\n",
    "\n",
    "    if pivotIndex == k:\n",
    "        return arr[left:pivotIndex+1]\n",
    "    elif pivotIndex > k:\n",
    "        return QuickSelect(arr, left, pivotIndex-1, k)\n",
    "    else:\n",
    "        return QuickSelect(arr, pivotIndex+1, right, k)\n",
    "\n",
    "function Partition(A, left, right):\n",
    "    # 选取最右侧元素为基准值\n",
    "    pivotValue = A[right]\n",
    "    i = left - 1\n",
    "\n",
    "    for j from left to right - 1:\n",
    "        # 将小于等于基准值的元素移到左侧\n",
    "        if A[j] <= pivotValue:\n",
    "            i += 1\n",
    "            Swap(A[i], A[j])\n",
    "\n",
    "    Swap(A[i+1], A[right])\n",
    "    return i+1\n",
    "\n",
    "\n",
    "\n",
    "# 3\n",
    "function DivideArray(A, start, end, parts):\n",
    "    # 计算中间部分的数量，找到中间部分的第一个元素的位置\n",
    "    midPart = parts // 2  \n",
    "    midIndex = FindKthElement(A, start, end, (end - start) * midPart // parts)\n",
    "\n",
    "    leftEnd = midIndex\n",
    "    rightStart = midIndex + 1\n",
    "\n",
    "    DivideArray(A, start, leftEnd, midPart)\n",
    "    DivideArray(A, rightStart, end, parts - midPart)\n",
    "\n",
    "function FindKthElement(A, start, end, k):\n",
    "    # 快速选择算法，用于找到第k小的元素，对数组进行划分并获取基准值索引\n",
    "    pivotIndex = Partition(A, start, end)\n",
    "\n",
    "    # 如果找到了目标位置，则返回\n",
    "    if pivotIndex == k:  \n",
    "        return pivotIndex\n",
    "    elif pivotIndex > k:\n",
    "        return FindKthElement(A, start, pivotIndex - 1, k)\n",
    "    else:\n",
    "        return FindKthElement(A, pivotIndex + 1, end, k)\n",
    "\n",
    "function Partition(A, start, end):\n",
    "    pivotValue = A[end]\n",
    "    i = start - 1\n",
    "\n",
    "    for j from start to end - 1:\n",
    "        if A[j] <= pivotValue:\n",
    "            i += 1\n",
    "            Swap(A[i], A[j])\n",
    "\n",
    "    Swap(A[i+1], A[end])\n",
    "    return i+1"
   ]
  },
  {
   "cell_type": "markdown",
   "metadata": {},
   "source": [
    "## 问题 10：\n",
    "\n",
    "给定一个包含m个**字符串**的数组A, 其中不同的字符串可能有不同的字符数, 但数组中所有字符串的字符总数为n。设计一个算法在 $O(n)$ 时间内对字符串进行排序, 分析算法设计方案, 计算其时间复杂度, 并基于python编程实现该算法。请注意, 假设字符串只包含\"a\",\"b\",...,\"z\", \n",
    "\n",
    "\n",
    "\n",
    "举例1：数组A=[\"a\", \"da\", \"bde\", \"ab\", \"bc\", \"abdc\", \"cdba\"], 排序后的数组应该为：['a', 'ab', 'abdc', 'bc', 'bde', 'cdba', 'da']\n",
    "\n",
    "\n",
    "\n",
    "举例2：数组A=['ab', 'a', 'b', 'abc', 'ba', 'c'], 排序后的数组应该为：\n",
    "\n",
    "['a', 'ab', 'abc', 'b', 'ba', 'c']\n",
    "\n",
    "\n",
    "\n",
    "举例3：数组A=['aef', 'yzr', 'wr', 'ab', 'bhjc', 'lkabdc', 'pwcdba'],  排序后的数组应该为：['ab', 'aef', 'bhjc', 'lkabdc', 'pwcdba', 'wr', 'yzr']\n",
    "\n",
    "\n",
    "\n",
    "note：\n",
    "\n",
    "-  两个字符之间的比较可以考虑比较他们对应的ASCII码值；\n",
    "- python中可以使用`ord(\"a\")`返回字符 “a”对应的ASCII值"
   ]
  },
  {
   "cell_type": "markdown",
   "metadata": {},
   "source": [
    "idea:\n",
    "假设所有的字符串长度相同，则可以从最右边的字符开始逐位进行排序。对每一位上的字符进行排序，重复，直到最左边的字符也被排序完毕。假设字符长度是k字符的最大长度，有n个元素，时间复杂度是O(kn)。"
   ]
  },
  {
   "cell_type": "code",
   "execution_count": 2,
   "metadata": {},
   "outputs": [
    {
     "name": "stdout",
     "output_type": "stream",
     "text": [
      "['ab', 'aef', 'bhjc', 'lkabdc', 'pwcdba', 'wr', 'yzr']\n"
     ]
    }
   ],
   "source": [
    "# add your code here\n",
    "# your algorithm time complexity is :\n",
    "def sort_strings(strings):\n",
    "    max_len = max(len(s) for s in strings)\n",
    "    padded_strings = [(s.ljust(max_len), i) for i, s in enumerate(strings)]\n",
    "\n",
    "    # 按照从最低有效位到最高有效位依次排序\n",
    "    for pos in range(max_len - 1, -1, -1):\n",
    "        buckets = [[] for _ in range(256)]\n",
    "        for string_with_index in padded_strings:\n",
    "            char_code = ord(string_with_index[0][pos])\n",
    "            buckets[char_code].append(string_with_index)\n",
    "        padded_strings = [item for bucket in buckets for item in bucket]\n",
    "\n",
    "    sorted_strings = [padded_string[0].rstrip() for padded_string in padded_strings]\n",
    "    return sorted_strings\n",
    "\n",
    "# 测试\n",
    "A=['aef', 'yzr', 'wr', 'ab', 'bhjc', 'lkabdc', 'pwcdba']\n",
    "result = sort_strings(A)\n",
    "print(result)"
   ]
  },
  {
   "cell_type": "code",
   "execution_count": null,
   "metadata": {},
   "outputs": [],
   "source": []
  }
 ],
 "metadata": {
  "kernelspec": {
   "display_name": "Python [conda env:base] *",
   "language": "python",
   "name": "conda-base-py"
  },
  "language_info": {
   "codemirror_mode": {
    "name": "ipython",
    "version": 3
   },
   "file_extension": ".py",
   "mimetype": "text/x-python",
   "name": "python",
   "nbconvert_exporter": "python",
   "pygments_lexer": "ipython3",
   "version": "3.12.7"
  }
 },
 "nbformat": 4,
 "nbformat_minor": 4
}
